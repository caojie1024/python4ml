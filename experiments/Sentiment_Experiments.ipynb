{
  "nbformat": 4,
  "nbformat_minor": 0,
  "metadata": {
    "colab": {
      "name": "Sentiment_Experiments.ipynb",
      "version": "0.3.2",
      "provenance": [],
      "collapsed_sections": [],
      "include_colab_link": true
    },
    "kernelspec": {
      "name": "python3",
      "display_name": "Python 3"
    }
  },
  "cells": [
    {
      "cell_type": "markdown",
      "metadata": {
        "id": "view-in-github",
        "colab_type": "text"
      },
      "source": [
        "<a href=\"https://colab.research.google.com/github/raynardj/python4ml/blob/master/experiments/Sentiment_Experiments.ipynb\" target=\"_parent\"><img src=\"https://colab.research.google.com/assets/colab-badge.svg\" alt=\"Open In Colab\"/></a>"
      ]
    },
    {
      "metadata": {
        "id": "UYHxSBWnGrml",
        "colab_type": "text"
      },
      "cell_type": "markdown",
      "source": [
        "## Experimente on Sentiment Analysis"
      ]
    },
    {
      "metadata": {
        "id": "HO-qN5NUNE5n",
        "colab_type": "code",
        "colab": {}
      },
      "cell_type": "code",
      "source": [
        "import pandas as pd\n",
        "import sys\n",
        "\n",
        "sys.path.insert(0, '/content/gdrive/Computers/My\\ MacBook\\ Pro/forge/forge')\n",
        "sys.path.insert(0, '/content/gdrive/Computers/My\\ MacBook\\ Pro/forge/forgebox')"
      ],
      "execution_count": 0,
      "outputs": []
    },
    {
      "metadata": {
        "id": "bpiC14iKGvUG",
        "colab_type": "code",
        "colab": {}
      },
      "cell_type": "code",
      "source": [
        "# Uncomment or run the following if you are not ray\n",
        "# !!pip install --force-reinstall git+https://github.com/raynardj/forge"
      ],
      "execution_count": 0,
      "outputs": []
    },
    {
      "metadata": {
        "id": "w_XGndBCIpN1",
        "colab_type": "code",
        "colab": {}
      },
      "cell_type": "code",
      "source": [
        "from forgebox.ftorch import layers"
      ],
      "execution_count": 0,
      "outputs": []
    },
    {
      "metadata": {
        "id": "qu4BKF8ghuwb",
        "colab_type": "code",
        "colab": {}
      },
      "cell_type": "code",
      "source": [
        "# For 1st timer, load the google drive\n",
        "# from google.colab import drive\n",
        "# drive.mount('/content/gdrive')"
      ],
      "execution_count": 0,
      "outputs": []
    },
    {
      "metadata": {
        "id": "_Trnv477dOns",
        "colab_type": "code",
        "colab": {}
      },
      "cell_type": "code",
      "source": [
        "train_df = pd.read_csv('/content/gdrive/My Drive/data/quora/quora_train.csv')"
      ],
      "execution_count": 0,
      "outputs": []
    },
    {
      "metadata": {
        "id": "2yDNecp6dvfd",
        "colab_type": "code",
        "colab": {
          "base_uri": "https://localhost:8080/",
          "height": 204
        },
        "outputId": "b0659834-45c8-47f6-fb0b-928da4f40437"
      },
      "cell_type": "code",
      "source": [
        "train_df.sample(5)"
      ],
      "execution_count": 8,
      "outputs": [
        {
          "output_type": "execute_result",
          "data": {
            "text/html": [
              "<div>\n",
              "<style scoped>\n",
              "    .dataframe tbody tr th:only-of-type {\n",
              "        vertical-align: middle;\n",
              "    }\n",
              "\n",
              "    .dataframe tbody tr th {\n",
              "        vertical-align: top;\n",
              "    }\n",
              "\n",
              "    .dataframe thead th {\n",
              "        text-align: right;\n",
              "    }\n",
              "</style>\n",
              "<table border=\"1\" class=\"dataframe\">\n",
              "  <thead>\n",
              "    <tr style=\"text-align: right;\">\n",
              "      <th></th>\n",
              "      <th>qid</th>\n",
              "      <th>question_text</th>\n",
              "      <th>target</th>\n",
              "    </tr>\n",
              "  </thead>\n",
              "  <tbody>\n",
              "    <tr>\n",
              "      <th>1180980</th>\n",
              "      <td>e76e262c9d88448c1c91</td>\n",
              "      <td>What is your favorite story about an event in ...</td>\n",
              "      <td>0</td>\n",
              "    </tr>\n",
              "    <tr>\n",
              "      <th>828903</th>\n",
              "      <td>a272cf5d980a7c39febd</td>\n",
              "      <td>When is Google gonna launch its much awaited G...</td>\n",
              "      <td>0</td>\n",
              "    </tr>\n",
              "    <tr>\n",
              "      <th>713711</th>\n",
              "      <td>8bb5aece116ca5bac4ea</td>\n",
              "      <td>My mother won't let me spend my own money that...</td>\n",
              "      <td>0</td>\n",
              "    </tr>\n",
              "    <tr>\n",
              "      <th>255909</th>\n",
              "      <td>3216571f4803e103155e</td>\n",
              "      <td>Why don't many Western people ever want to giv...</td>\n",
              "      <td>1</td>\n",
              "    </tr>\n",
              "    <tr>\n",
              "      <th>192908</th>\n",
              "      <td>25b4220ebc93fdd0d23e</td>\n",
              "      <td>How have the idea of race and the practice of ...</td>\n",
              "      <td>0</td>\n",
              "    </tr>\n",
              "  </tbody>\n",
              "</table>\n",
              "</div>"
            ],
            "text/plain": [
              "                          qid  \\\n",
              "1180980  e76e262c9d88448c1c91   \n",
              "828903   a272cf5d980a7c39febd   \n",
              "713711   8bb5aece116ca5bac4ea   \n",
              "255909   3216571f4803e103155e   \n",
              "192908   25b4220ebc93fdd0d23e   \n",
              "\n",
              "                                             question_text  target  \n",
              "1180980  What is your favorite story about an event in ...       0  \n",
              "828903   When is Google gonna launch its much awaited G...       0  \n",
              "713711   My mother won't let me spend my own money that...       0  \n",
              "255909   Why don't many Western people ever want to giv...       1  \n",
              "192908   How have the idea of race and the practice of ...       0  "
            ]
          },
          "metadata": {
            "tags": []
          },
          "execution_count": 8
        }
      ]
    },
    {
      "metadata": {
        "id": "TWuHJQ0Chryl",
        "colab_type": "code",
        "colab": {}
      },
      "cell_type": "code",
      "source": [
        ""
      ],
      "execution_count": 0,
      "outputs": []
    }
  ]
}