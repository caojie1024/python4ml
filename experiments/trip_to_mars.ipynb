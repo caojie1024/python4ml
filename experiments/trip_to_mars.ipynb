{
 "cells": [
  {
   "cell_type": "markdown",
   "metadata": {},
   "source": [
    "### From Earth To Mars\n",
    "\n",
    "The position of earth and mars are constantly changing\n",
    "\n",
    "#### Requirements\n",
    "* Select a date from now to launch the spaceship\n",
    "* Tell how many days it will take the spaceship to travel"
   ]
  },
  {
   "cell_type": "code",
   "execution_count": 44,
   "metadata": {},
   "outputs": [],
   "source": [
    "import torch\n",
    "from torch import nn\n",
    "from torch.optim import Adam"
   ]
  },
  {
   "cell_type": "code",
   "execution_count": 45,
   "metadata": {},
   "outputs": [],
   "source": [
    "import math\n",
    "ft = torch.FloatTensor\n",
    "\n",
    "# Radius of planets, in million kilometer\n",
    "rE = ft([150.]) # Earth\n",
    "rM = ft([205.]) # Marth\n",
    "\n",
    "# days of 1 revolves around the sun, in earth days\n",
    "yearE = ft([365.24219])\n",
    "yearM = ft([686.98])\n",
    "\n",
    "# rotation speed of revolving\n",
    "radE = 2*math.pi / yearE\n",
    "radM = 2*math.pi / yearM\n",
    "\n",
    "# Launch date: days starting from now\n",
    "Launch = nn.Parameter(ft([1.]))\n",
    "\n",
    "# The maximun speed of the ship (1millon km/ day)\n",
    "max_v = ft([.5]) \n",
    "\n",
    "time_min = (rM - rE)/max_v # minimun fly time\n",
    "time = nn.Parameter(ft([1.])) # extra fly time"
   ]
  },
  {
   "cell_type": "code",
   "execution_count": 46,
   "metadata": {},
   "outputs": [
    {
     "name": "stdout",
     "output_type": "stream",
     "text": [
      "launch date: 51.03\t fly time: 113.32\t distance:121.09\t ship avg speed: 0.40\tmax dist by speed:56.66\n",
      "launch date: 110.46\t fly time: 106.04\t distance:61.14\t ship avg speed: 0.26\tmax dist by speed:53.02\n",
      "launch date: 152.16\t fly time: 118.13\t distance:60.62\t ship avg speed: 0.32\tmax dist by speed:59.07\n",
      "launch date: 158.16\t fly time: 140.83\t distance:55.05\t ship avg speed: 0.31\tmax dist by speed:70.42\n",
      "launch date: 163.46\t fly time: 151.62\t distance:56.34\t ship avg speed: 0.31\tmax dist by speed:75.81\n",
      "launch date: 175.15\t fly time: 149.00\t distance:55.65\t ship avg speed: 0.31\tmax dist by speed:74.50\n",
      "launch date: 175.28\t fly time: 154.01\t distance:55.00\t ship avg speed: 0.30\tmax dist by speed:77.01\n",
      "launch date: 174.99\t fly time: 157.21\t distance:55.22\t ship avg speed: 0.30\tmax dist by speed:78.60\n",
      "launch date: 178.78\t fly time: 155.05\t distance:55.14\t ship avg speed: 0.30\tmax dist by speed:77.53\n",
      "launch date: 177.61\t fly time: 157.14\t distance:55.01\t ship avg speed: 0.30\tmax dist by speed:78.57\n",
      "launch date: 177.95\t fly time: 157.32\t distance:55.01\t ship avg speed: 0.30\tmax dist by speed:78.66\n",
      "launch date: 178.91\t fly time: 156.65\t distance:55.02\t ship avg speed: 0.30\tmax dist by speed:78.32\n",
      "launch date: 178.09\t fly time: 157.63\t distance:55.01\t ship avg speed: 0.30\tmax dist by speed:78.82\n",
      "launch date: 178.74\t fly time: 157.06\t distance:55.00\t ship avg speed: 0.30\tmax dist by speed:78.53\n",
      "launch date: 178.52\t fly time: 157.33\t distance:55.00\t ship avg speed: 0.30\tmax dist by speed:78.67\n",
      "launch date: 178.52\t fly time: 157.36\t distance:55.00\t ship avg speed: 0.30\tmax dist by speed:78.68\n",
      "launch date: 178.67\t fly time: 157.22\t distance:55.00\t ship avg speed: 0.30\tmax dist by speed:78.61\n",
      "launch date: 178.50\t fly time: 157.40\t distance:55.00\t ship avg speed: 0.30\tmax dist by speed:78.70\n",
      "launch date: 178.65\t fly time: 157.25\t distance:55.00\t ship avg speed: 0.30\tmax dist by speed:78.63\n",
      "launch date: 178.55\t fly time: 157.36\t distance:55.00\t ship avg speed: 0.30\tmax dist by speed:78.68\n",
      "launch date: 178.62\t fly time: 157.29\t distance:55.00\t ship avg speed: 0.30\tmax dist by speed:78.65\n",
      "launch date: 178.58\t fly time: 157.33\t distance:55.00\t ship avg speed: 0.30\tmax dist by speed:78.67\n",
      "launch date: 178.60\t fly time: 157.31\t distance:55.00\t ship avg speed: 0.30\tmax dist by speed:78.66\n",
      "launch date: 178.59\t fly time: 157.32\t distance:55.00\t ship avg speed: 0.30\tmax dist by speed:78.66\n",
      "launch date: 178.59\t fly time: 157.32\t distance:55.00\t ship avg speed: 0.30\tmax dist by speed:78.66\n",
      "launch date: 178.59\t fly time: 157.32\t distance:55.00\t ship avg speed: 0.30\tmax dist by speed:78.66\n",
      "launch date: 178.59\t fly time: 157.32\t distance:55.00\t ship avg speed: 0.30\tmax dist by speed:78.66\n",
      "launch date: 178.59\t fly time: 157.32\t distance:55.00\t ship avg speed: 0.30\tmax dist by speed:78.66\n",
      "launch date: 178.59\t fly time: 157.32\t distance:55.00\t ship avg speed: 0.30\tmax dist by speed:78.66\n",
      "launch date: 178.59\t fly time: 157.32\t distance:55.00\t ship avg speed: 0.30\tmax dist by speed:78.66\n",
      "launch date: 178.59\t fly time: 157.32\t distance:55.00\t ship avg speed: 0.30\tmax dist by speed:78.66\n",
      "launch date: 178.59\t fly time: 157.32\t distance:55.00\t ship avg speed: 0.30\tmax dist by speed:78.66\n",
      "launch date: 178.59\t fly time: 157.32\t distance:55.00\t ship avg speed: 0.30\tmax dist by speed:78.66\n",
      "launch date: 178.59\t fly time: 157.32\t distance:55.00\t ship avg speed: 0.30\tmax dist by speed:78.66\n",
      "launch date: 178.59\t fly time: 157.32\t distance:55.00\t ship avg speed: 0.30\tmax dist by speed:78.66\n",
      "launch date: 178.59\t fly time: 157.32\t distance:55.00\t ship avg speed: 0.30\tmax dist by speed:78.66\n",
      "launch date: 178.59\t fly time: 157.32\t distance:55.00\t ship avg speed: 0.30\tmax dist by speed:78.66\n",
      "launch date: 178.59\t fly time: 157.32\t distance:55.00\t ship avg speed: 0.30\tmax dist by speed:78.66\n",
      "launch date: 178.59\t fly time: 157.32\t distance:55.00\t ship avg speed: 0.30\tmax dist by speed:78.66\n",
      "launch date: 178.59\t fly time: 157.32\t distance:55.00\t ship avg speed: 0.30\tmax dist by speed:78.66\n",
      "launch date: 178.59\t fly time: 157.32\t distance:55.00\t ship avg speed: 0.30\tmax dist by speed:78.66\n",
      "launch date: 178.59\t fly time: 157.32\t distance:55.00\t ship avg speed: 0.30\tmax dist by speed:78.66\n",
      "launch date: 178.59\t fly time: 157.32\t distance:55.00\t ship avg speed: 0.30\tmax dist by speed:78.66\n",
      "launch date: 178.59\t fly time: 157.32\t distance:55.00\t ship avg speed: 0.30\tmax dist by speed:78.66\n",
      "launch date: 178.59\t fly time: 157.32\t distance:55.00\t ship avg speed: 0.30\tmax dist by speed:78.66\n",
      "launch date: 178.59\t fly time: 157.32\t distance:55.00\t ship avg speed: 0.30\tmax dist by speed:78.66\n",
      "launch date: 178.59\t fly time: 157.32\t distance:55.00\t ship avg speed: 0.30\tmax dist by speed:78.66\n",
      "launch date: 178.59\t fly time: 157.32\t distance:55.00\t ship avg speed: 0.30\tmax dist by speed:78.66\n",
      "launch date: 178.59\t fly time: 157.32\t distance:55.00\t ship avg speed: 0.30\tmax dist by speed:78.66\n",
      "launch date: 178.59\t fly time: 157.32\t distance:55.00\t ship avg speed: 0.30\tmax dist by speed:78.66\n"
     ]
    }
   ],
   "source": [
    "opt = Adam([Launch,time],lr = 1e1)\n",
    "\n",
    "def calc_x(date,rad,r):\n",
    "    return torch.cos(date*rad)*r\n",
    "\n",
    "def calc_y(date,rad,r):\n",
    "    return torch.sin(date*rad)*r\n",
    "\n",
    "def calc_xy(date,rad,r):\n",
    "    return calc_x(date,rad,r),calc_y(date,rad,r)\n",
    "\n",
    "for i in range(300):\n",
    "    opt.zero_grad()\n",
    "    xE,yE = calc_xy(torch.abs(Launch), radE, rE)\n",
    "    xM,yM = calc_xy(torch.abs(Launch)+time_min+torch.abs(time), radM, rM)\n",
    "    Distance = torch.sqrt(torch.pow(xE-xM,2)+torch.pow(yE-yM,2))\n",
    "    if i%6 ==5:\n",
    "        print(\"launch date: %.2f\\t fly time: %.2f\\t distance:%.2f\\t ship avg speed: %.2f\\tmax dist by speed:%.2f\"%(Launch.data.item(), \n",
    "                  (time+time_min).item(), \n",
    "                  Distance.item(),\n",
    "                  (Distance/time+time_min).item()/365, \n",
    "                  ((time+time_min)*max_v).item()))\n",
    "    Distance.backward()\n",
    "    opt.step()"
   ]
  },
  {
   "cell_type": "code",
   "execution_count": null,
   "metadata": {},
   "outputs": [],
   "source": []
  }
 ],
 "metadata": {
  "kernelspec": {
   "display_name": "Python 3",
   "language": "python",
   "name": "python3"
  },
  "language_info": {
   "codemirror_mode": {
    "name": "ipython",
    "version": 3
   },
   "file_extension": ".py",
   "mimetype": "text/x-python",
   "name": "python",
   "nbconvert_exporter": "python",
   "pygments_lexer": "ipython3",
   "version": "3.6.5"
  }
 },
 "nbformat": 4,
 "nbformat_minor": 2
}
