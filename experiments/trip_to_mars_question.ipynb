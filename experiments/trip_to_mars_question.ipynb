{
  "nbformat": 4,
  "nbformat_minor": 0,
  "metadata": {
    "colab": {
      "name": "From Earth To Mars.ipynb",
      "version": "0.3.2",
      "provenance": [],
      "collapsed_sections": [],
      "include_colab_link": true
    },
    "kernelspec": {
      "name": "python3",
      "display_name": "Python 3"
    }
  },
  "cells": [
    {
      "cell_type": "markdown",
      "metadata": {
        "id": "view-in-github",
        "colab_type": "text"
      },
      "source": [
        "<a href=\"https://colab.research.google.com/github/raynardj/python4ml/blob/master/experiments/trip_to_mars_question.ipynb\" target=\"_parent\"><img src=\"https://colab.research.google.com/assets/colab-badge.svg\" alt=\"Open In Colab\"/></a>"
      ]
    },
    {
      "metadata": {
        "id": "AZoSYSDVIEdU",
        "colab_type": "text"
      },
      "cell_type": "markdown",
      "source": [
        "### From Earth To Mars\n",
        "\n",
        "The position of earth and mars are constantly changing.\n",
        "\n",
        "That makes calculate a launch date some heavy math problem\n",
        "\n",
        "#### Requirements\n",
        "* Select a date from now to launch the spaceship\n",
        "* Tell how many days it will take the spaceship to travel"
      ]
    },
    {
      "metadata": {
        "id": "Tb9g9RzOIGLp",
        "colab_type": "code",
        "outputId": "596ebf9e-3112-4cd6-8f9d-ed555c31828f",
        "colab": {
          "base_uri": "https://localhost:8080/",
          "height": 523
        }
      },
      "cell_type": "code",
      "source": [
        "iframe = \"\"\"<iframe src=\"https://www.desmos.com/calculator/lsjho1cuve?embed\" width=\"500px\" height=\"500px\" style=\"border: 1px solid #ccc\" frameborder=0></iframe>\"\"\"\n",
        "\n",
        "from IPython.display import HTML\n",
        "\n",
        "HTML(iframe,)"
      ],
      "execution_count": 0,
      "outputs": [
        {
          "output_type": "execute_result",
          "data": {
            "text/html": [
              "<iframe src=\"https://www.desmos.com/calculator/lsjho1cuve?embed\" width=\"500px\" height=\"500px\" style=\"border: 1px solid #ccc\" frameborder=0></iframe>"
            ],
            "text/plain": [
              "<IPython.core.display.HTML object>"
            ]
          },
          "metadata": {
            "tags": []
          },
          "execution_count": 1
        }
      ]
    },
    {
      "metadata": {
        "id": "khxVXFRLJO7a",
        "colab_type": "text"
      },
      "cell_type": "markdown",
      "source": [
        "So far we know:\n",
        "\n",
        "* Radius of the rotation movement against sun:\n",
        "    *  earth: 150 million km\n",
        "    * mars: 205 million km\n",
        "* Days of 1 rotation around the sun, in earth days\n",
        "    * earth: 365.24219 days\n",
        "    * mars: 686.98\n",
        "* The maximun speed of our space ship: 0.5 million km /day"
      ]
    },
    {
      "metadata": {
        "id": "Hw-9iCnaIcKk",
        "colab_type": "code",
        "colab": {}
      },
      "cell_type": "code",
      "source": [
        "import torch\n",
        "from torch import nn\n",
        "from torch.optim import Adam\n",
        "\n",
        "import math\n",
        "ft = torch.FloatTensor\n",
        "\n",
        "# Radius of planets' movement rotating sun, in million kilometer\n",
        "rE = ft([150.]) # Earth\n",
        "rM = ft([205.]) # Marth\n",
        "\n",
        "# days of 1 rotation around the sun, in earth days\n",
        "yearE = ft([365.24219])\n",
        "yearM = ft([686.98])\n",
        "\n",
        "# rotation speed of revolving\n",
        "radE = 2*math.pi / yearE\n",
        "radM = 2*math.pi / yearM\n",
        "\n",
        "# Launch date: days starting from now\n",
        "Launch = nn.Parameter(ft([1.]))\n",
        "\n",
        "# The maximun speed of the ship (1millon km/ day)\n",
        "max_v = ft([.5]) \n",
        "\n",
        "time_min = (rM - rE)/max_v # minimun fly time, it's a constant that won't change\n",
        "time = nn.Parameter(ft([1.])) # extra fly time, actual fly_time = time+time_min"
      ],
      "execution_count": 0,
      "outputs": []
    },
    {
      "metadata": {
        "id": "fD_qaotPMwE-",
        "colab_type": "text"
      },
      "cell_type": "markdown",
      "source": [
        "### Excercise\n",
        "* Find the constants above: Factors that will not change\n",
        "* Find the parameters above: The answers we are looking for\n",
        "* Find the variables above: The changing factors we have to consider"
      ]
    },
    {
      "metadata": {
        "id": "a44dLCYnN5qi",
        "colab_type": "code",
        "colab": {}
      },
      "cell_type": "code",
      "source": [
        ""
      ],
      "execution_count": 0,
      "outputs": []
    }
  ]
}