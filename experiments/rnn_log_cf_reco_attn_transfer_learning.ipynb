{
 "cells": [
  {
   "cell_type": "markdown",
   "metadata": {},
   "source": [
    "## 20Mn data MovieLens Experiment"
   ]
  },
  {
   "cell_type": "markdown",
   "metadata": {},
   "source": [
    "An experiment on 20mn MovieLens Dataset.\n",
    "\n",
    "The core idea is to use rnn to process sequence log data, to replace trained user embedding on crossfiltering nn model.\n",
    "\n",
    "* This notebook is to test transfer learning"
   ]
  },
  {
   "cell_type": "code",
   "execution_count": 1,
   "metadata": {},
   "outputs": [],
   "source": [
    "import pandas as pd\n",
    "import numpy as np\n",
    "import torch\n",
    "from torch import nn\n",
    "from torch.nn import functional as F\n",
    "from torch.optim import Adam"
   ]
  },
  {
   "cell_type": "code",
   "execution_count": 2,
   "metadata": {},
   "outputs": [
    {
     "name": "stdout",
     "output_type": "stream",
     "text": [
      "[task:experiment with RNN+CF on movielens 20m data>>start]<2018-11-05_22:10:31|0s,0s>\t\n"
     ]
    }
   ],
   "source": [
    "from ray.lprint import lprint\n",
    "from ray.matchbox_lego import AttLSTM\n",
    "l = lprint(\"experiment with RNN+CF on movielens 20m data\")"
   ]
  },
  {
   "cell_type": "code",
   "execution_count": 3,
   "metadata": {},
   "outputs": [
    {
     "name": "stdout",
     "output_type": "stream",
     "text": [
      "[has GPU cuda]<2018-11-05_22:10:31|0s,0s>\tTrue\n"
     ]
    }
   ],
   "source": [
    "CUDA = torch.cuda.is_available()\n",
    "SEQ_LEN = 19 # sequence length\n",
    "DIM = 100 # hidden vector lenth, embedding length\n",
    "l.p(\"has GPU cuda\",CUDA)"
   ]
  },
  {
   "cell_type": "code",
   "execution_count": 4,
   "metadata": {},
   "outputs": [],
   "source": [
    "# %ls /data/ml-20m"
   ]
  },
  {
   "cell_type": "code",
   "execution_count": 5,
   "metadata": {},
   "outputs": [],
   "source": [
    "DATA = \"/data/ml-20m/ratings.csv\""
   ]
  },
  {
   "cell_type": "code",
   "execution_count": 6,
   "metadata": {},
   "outputs": [
    {
     "name": "stdout",
     "output_type": "stream",
     "text": [
      "[loading csv file]<2018-11-05_22:10:31|0s,0s>\t/data/ml-20m/ratings.csv\n",
      "[csv file loaded]<2018-11-05_22:10:39|7s,8s>\t\n"
     ]
    }
   ],
   "source": [
    "l.p(\"loading csv file\", DATA)\n",
    "rate_df = pd.read_csv(DATA)\n",
    "l.p(\"csv file loaded\")"
   ]
  },
  {
   "cell_type": "code",
   "execution_count": 7,
   "metadata": {},
   "outputs": [
    {
     "data": {
      "text/plain": [
       "20000263"
      ]
     },
     "execution_count": 7,
     "metadata": {},
     "output_type": "execute_result"
    }
   ],
   "source": [
    "len(rate_df)"
   ]
  },
  {
   "cell_type": "code",
   "execution_count": 8,
   "metadata": {},
   "outputs": [
    {
     "data": {
      "text/plain": [
       "20"
      ]
     },
     "execution_count": 8,
     "metadata": {},
     "output_type": "execute_result"
    }
   ],
   "source": [
    "rate_df.groupby(\"userId\").count()[\"movieId\"].min()\n",
    "# The minimum number of movies a user have rated"
   ]
  },
  {
   "cell_type": "code",
   "execution_count": 9,
   "metadata": {},
   "outputs": [
    {
     "name": "stdout",
     "output_type": "stream",
     "text": [
      "total number of users and movies:\t 138493 \t 26744\n"
     ]
    }
   ],
   "source": [
    "userId = list(set(rate_df[\"userId\"]))\n",
    "movieId = list(set(rate_df[\"movieId\"]))\n",
    "print(\"total number of users and movies:\\t\",len(userId),\"\\t\",len(movieId))"
   ]
  },
  {
   "cell_type": "code",
   "execution_count": 10,
   "metadata": {},
   "outputs": [
    {
     "name": "stdout",
     "output_type": "stream",
     "text": [
      "[making dictionary]<2018-11-05_22:10:43|3s,11s>\t\n"
     ]
    }
   ],
   "source": [
    "l.p(\"making dictionary\")\n",
    "u2i = dict((v,k) for k,v in enumerate(userId))\n",
    "m2i = dict((v,k) for k,v in enumerate(movieId))\n",
    "i2u = dict((k,v) for k,v in enumerate(userId))\n",
    "i2m = dict((k,v) for k,v in enumerate(movieId))"
   ]
  },
  {
   "cell_type": "code",
   "execution_count": 11,
   "metadata": {},
   "outputs": [
    {
     "name": "stdout",
     "output_type": "stream",
     "text": [
      "[translating the index]<2018-11-05_22:10:43|0s,11s>\t\n",
      "[normalize the rating]<2018-11-05_22:10:01|18s,30s>\t\n"
     ]
    }
   ],
   "source": [
    "# Translating original index to the new index\n",
    "l.p(\"translating the index\")\n",
    "rate_df[\"movieIdx\"] = rate_df.movieId.apply(lambda x:m2i[x]).astype(int)\n",
    "rate_df[\"userIdx\"] = rate_df.userId.apply(lambda x:u2i[x]).astype(int)\n",
    "l.p(\"normalize the rating\")\n",
    "rate_df[\"rating\"] = rate_df[\"rating\"]/5"
   ]
  },
  {
   "cell_type": "markdown",
   "metadata": {},
   "source": [
    "### Train /Valid Split: K fold Validation "
   ]
  },
  {
   "cell_type": "code",
   "execution_count": 12,
   "metadata": {},
   "outputs": [
    {
     "name": "stdout",
     "output_type": "stream",
     "text": [
      "[generating groubby slice]<2018-11-05_22:10:01|0s,30s>\t\n"
     ]
    }
   ],
   "source": [
    "l.p(\"generating groubby slice\")\n",
    "def get_user_trail(rate_df):\n",
    "    return rate_df.sort_values(by=[\"userId\",\"timestamp\"]).groupby(\"userId\")\n",
    "    #gb.apply(lambda x:x.sample(n = 20, replace = False))\n",
    "gb = get_user_trail(rate_df)"
   ]
  },
  {
   "cell_type": "code",
   "execution_count": 13,
   "metadata": {},
   "outputs": [],
   "source": [
    "from torch.utils.data.dataset import Dataset\n",
    "from torch.utils.data.dataloader import DataLoader\n",
    "import math"
   ]
  },
  {
   "cell_type": "code",
   "execution_count": 14,
   "metadata": {},
   "outputs": [],
   "source": [
    "KEEP_CONSEQ = True\n",
    "\n",
    "if KEEP_CONSEQ:\n",
    "    # keep the consequtivity among the items the user has rated\n",
    "    def sample_split(x):\n",
    "        sample_idx = math.floor(np.random.rand()*(len(x) - SEQ_LEN - 1))\n",
    "        seq_and_y = x[sample_idx:sample_idx + SEQ_LEN+1]\n",
    "        return seq_and_y\n",
    "else:\n",
    "    # randomly pick the right amount of sample from user's record\n",
    "    pick_k = np.array([0]*SEQ_LEN +[1])==1\n",
    "\n",
    "    def sample_split(x):\n",
    "        sampled = x.sample(n = 20, replace = False)\n",
    "        seq = sampled.head(19).sort_values(by=\"timestamp\")\n",
    "        y = sampled[pick_k]\n",
    "        return pd.concat([seq,y])\n",
    "    \n",
    "from ray.matchbox import DF_Dataset\n",
    "\n",
    "def read_x(df):\n",
    "    return df[[\"userIdx\",\"movieIdx\"]].values\n",
    "\n",
    "def read_y(df):\n",
    "    return df[[\"rating\"]].values\n",
    "\n",
    "class rnn_record(Dataset):\n",
    "    def __init__(self, gb):\n",
    "        \"\"\"\n",
    "        A pytorch dataset object designed to group logs into user behavior sequence\n",
    "        \"\"\"\n",
    "        self.gb = gb\n",
    "        self.make_seq()\n",
    "    \n",
    "    def make_seq(self):\n",
    "        \"\"\"\n",
    "        Resample the data\n",
    "        \"\"\"\n",
    "        self.all_seq = self.gb.apply(sample_split)\n",
    "        \n",
    "    def __len__(self):\n",
    "        return len(self.gb)\n",
    "        \n",
    "    def __getitem__(self,idx):\n",
    "        \"\"\"\n",
    "        next(generator) will spit out the 'return' of this function\n",
    "        this is a single row in the batch\n",
    "        \"\"\"\n",
    "        df = self.all_seq.loc[idx]\n",
    "        seq = df.head(SEQ_LEN)[[\"movieIdx\",\"rating\"]].values\n",
    "        targ = df.head(SEQ_LEN+1).tail(1)[[\"movieIdx\",\"rating\"]].values\n",
    "        targ_v, targ_y =targ[:,0], targ[:,1]\n",
    "        return idx,seq,targ_v,targ_y"
   ]
  },
  {
   "cell_type": "code",
   "execution_count": 15,
   "metadata": {},
   "outputs": [],
   "source": [
    "# Testing data generator\n",
    "\n",
    "# data_gb = get_user_trail(rate_df)\n",
    "# rr = rnn_record(data_gb)\n",
    "# rr.all_seq\n",
    "\n",
    "# dl = DataLoader(rr,shuffle=True,batch_size=1)\n",
    "# gen = iter(dl)\n",
    "# next(gen)"
   ]
  },
  {
   "cell_type": "code",
   "execution_count": 28,
   "metadata": {},
   "outputs": [],
   "source": [
    "### Model Transfer\n",
    "class cf(nn.Module):\n",
    "    def __init__(self, hidden_size,u_size,v_size):\n",
    "        \"\"\"\n",
    "        Deep embedded cross filtering neural network\n",
    "        \"\"\"\n",
    "        super(cf,self).__init__()\n",
    "        self.hidden_size = hidden_size\n",
    "        self.u_size = u_size\n",
    "        self.v_size = v_size\n",
    "        self.emb_u = nn.Embedding(u_size,hidden_size)\n",
    "        self.emb = nn.Embedding(v_size,hidden_size)\n",
    "        \n",
    "        self.mlp = nn.Sequential(*[\n",
    "            nn.Dropout(.3),\n",
    "            nn.Linear(hidden_size*2, 256, bias=False),\n",
    "            nn.BatchNorm1d(256),\n",
    "            nn.Linear(256,1,bias=False),\n",
    "            nn.Sigmoid(),\n",
    "        ])\n",
    "    def forward(self,u,v):\n",
    "        x = torch.cat([self.emb_u(u).squeeze(1),self.emb(v).squeeze(1)],dim=1)\n",
    "        x = self.mlp(x)\n",
    "        return x\n",
    "        \n",
    "### Model\n",
    "\n",
    "class mLinkNet(nn.Module):\n",
    "    def __init__(self, hidden_size,v_size):\n",
    "        \"\"\"\n",
    "        mLinkNet, short for missing link net\n",
    "        \"\"\"\n",
    "        super(mLinkNet,self).__init__()\n",
    "        self.hidden_size = hidden_size\n",
    "        self.v_size = v_size\n",
    "        self.emb = nn.Embedding(v_size,hidden_size)\n",
    "        \n",
    "        self.rnn = AttLSTM(mask_activation = \"sigmoid\",\n",
    "                        input_size = self.hidden_size+1,# AttLSTM input dim = DIM +1, left 1 element for rating\n",
    "                          hidden_size= hidden_size+1, \n",
    "                          num_layers=2,\n",
    "                          batch_first = True,\n",
    "                          dropout=0)\n",
    "        \n",
    "        self.mlp = nn.Sequential(*[\n",
    "            nn.Dropout(.3),\n",
    "            nn.Linear(hidden_size*2+1, 256, bias=False),\n",
    "            nn.BatchNorm1d(256),\n",
    "            nn.Linear(256,1,bias=False),\n",
    "            nn.Sigmoid(),\n",
    "        ])\n",
    "    \n",
    "    def forward(self,seq,targ_v):\n",
    "        seq_vec = torch.cat([self.emb(seq[:,0].long()),\n",
    "                             seq[:,1].unsqueeze(-1).float()], dim=2)\n",
    "        output, (hn,cn),mask = self.rnn(seq_vec)\n",
    "        x = torch.cat([output,self.emb(targ_v.long()).squeeze(1)],dim=1)\n",
    "        return self.mlp(x)"
   ]
  },
  {
   "cell_type": "code",
   "execution_count": 29,
   "metadata": {},
   "outputs": [],
   "source": [
    "def tran_action(*args,**kwargs):\n",
    "    x,y = args[0]\n",
    "    if CUDA:\n",
    "        x,y = x.cuda(),y.cuda()\n",
    "        x,y = x.squeeze(0),y.squeeze(0)\n",
    "    u,v = x[:,:1],x[:,1:]\n",
    "    opt_.zero_grad()\n",
    "    y_ = m0(u,v)\n",
    "    y = y.float()\n",
    "    loss = loss_func(y_,y)\n",
    "    loss.backward()\n",
    "    mae = torch.mean(torch.abs(y_-y))\n",
    "    opt_.step()\n",
    "    return {\"loss\":loss.item(),\"mae\":mae.item()}\n",
    "\n",
    "def action(*args,**kwargs):\n",
    "    # get data from data feeder\n",
    "    idx,seq,targ_v,y = args[0]\n",
    "    if CUDA:\n",
    "        seq,targ_v,y = seq.cuda(),targ_v.cuda(),y.cuda()\n",
    "    y = y.float()\n",
    "    \n",
    "    # Clear the Jacobian Matrix\n",
    "    opt.zero_grad()\n",
    "    \n",
    "    # Predict y hat\n",
    "    y_ = mln(seq, targ_v)\n",
    "    # Calculate Loss\n",
    "    loss = loss_func(y_,y)\n",
    "    \n",
    "    # Backward Propagation\n",
    "    loss.backward()\n",
    "    opt.step()\n",
    "    # Mean Absolute Loss as print out metrics\n",
    "    mae = torch.mean(torch.abs(y_-y))\n",
    "    if kwargs[\"ite\"] == train_len - 1: # resample the sequence\n",
    "        trainer.train_data.dataset.make_seq()\n",
    "    return {\"loss\":loss.item(),\"mae\":mae.item()}\n",
    "\n",
    "def val_action(*args,**kwargs):\n",
    "    \"\"\"\n",
    "    A validation step\n",
    "    Exactly the same like train step, but no learning, only forward pass\n",
    "    \"\"\"\n",
    "    idx,seq,targ_v,y = args[0]\n",
    "    if CUDA:\n",
    "        seq,targ_v,y = seq.cuda(),targ_v.cuda(),y.cuda()\n",
    "    y = y.float()\n",
    "    \n",
    "    y_ = mln(seq, targ_v)\n",
    "    \n",
    "    loss = loss_func(y_,y)\n",
    "    mae = torch.mean(torch.abs(y_-y))\n",
    "    if kwargs[\"ite\"] == valid_len - 1:\n",
    "        trainer.val_data.dataset.make_seq()\n",
    "    return {\"loss\":loss.item(),\"mae\":mae.item()}\n"
   ]
  },
  {
   "cell_type": "code",
   "execution_count": null,
   "metadata": {},
   "outputs": [],
   "source": [
    "l.p(\"making train/test split\")\n",
    "user_count = len(userId)\n",
    "K = 2\n",
    "valid_split = dict({})\n",
    "random = np.random.rand(user_count)\n",
    "from ray.matchbox import Trainer\n",
    "\n",
    "def shift(modelfrom, modelto):\n",
    "    \"\"\"\n",
    "    switch gpu mem allocation and transfer embedding weights\n",
    "    \"\"\"\n",
    "    if CUDA:\n",
    "        modelfrom.cpu()\n",
    "    modelto.emb.weight.data = modelfrom.emb.weight.data\n",
    "    if CUDA:\n",
    "        modelto.cuda()\n",
    "    \n",
    "\n",
    "l.p(\"start training\")\n",
    "for fold in range(K):\n",
    "    valid_split = ((fold/K) < random)*(random <= ((fold+1)/K))\n",
    "    train_idx = np.array(range(user_count))[~valid_split]\n",
    "    valid_idx = np.array(range(user_count))[valid_split]\n",
    "    \n",
    "    trans_df = rate_df[rate_df.userId.isin(train_idx)]\n",
    "    train_df = rate_df[rate_df.userId.isin(train_idx)]\n",
    "    valid_df = rate_df[rate_df.userId.isin(valid_idx)]\n",
    "    \n",
    "    tran_ds = DF_Dataset(trans_df,read_x,read_y,512,shuffle=True)\n",
    "    \n",
    "    # Since user id mapping doesn't matter any more.\n",
    "    # It's easier to make a dataset with contineous user_id.\n",
    "    train_u2i = dict((v,k) for k,v in enumerate(set(train_df.userId)))\n",
    "    valid_u2i = dict((v,k) for k,v in enumerate(set(valid_df.userId)))\n",
    "    train_df[\"userId\"] = train_df.userId.apply(lambda x:train_u2i[x])\n",
    "    valid_df[\"userId\"] = valid_df.userId.apply(lambda x:valid_u2i[x])\n",
    "    \n",
    "    train_gb = get_user_trail(train_df)\n",
    "    valid_gb = get_user_trail(valid_df)\n",
    "    \n",
    "    l.p(\"generating dataset\",\"train\")\n",
    "    train_ds = rnn_record(train_gb)\n",
    "    l.p(\"generating dataset\",\"valid\")\n",
    "    valid_ds = rnn_record(valid_gb)\n",
    "    l.p(\"dataset generated\")\n",
    "\n",
    "    l.p(\"creating model\")\n",
    "    m0 = cf(hidden_size = DIM, \n",
    "                u_size = len(userId), \n",
    "                v_size = len(movieId))\n",
    "    \n",
    "    mln = mLinkNet(hidden_size = DIM, \n",
    "               v_size = len(movieId))\n",
    "\n",
    "    opt_ = Adam(m0.parameters())\n",
    "    opt = Adam(mln.parameters())\n",
    "    loss_func = nn.MSELoss()\n",
    "    \n",
    "    pretrain = Trainer(tran_ds,batch_size=1,print_on=2)\n",
    "    trainer = Trainer(train_ds, val_dataset=valid_ds, batch_size=16, print_on=3)\n",
    "    \n",
    "    train_len = len(trainer.train_data)\n",
    "    valid_len = len(trainer.val_data)\n",
    "    l.p(\"train_len\",train_len)\n",
    "    l.p(\"valid_len\",valid_len)\n",
    "    \n",
    "    pretrain.action = tran_action\n",
    "    trainer.action  = action\n",
    "    trainer.val_action  = val_action\n",
    "    \n",
    "    l.p(\"fold training start\", fold)\n",
    "    for ep in range(12):\n",
    "        shift(mln,m0)\n",
    "        pretrain.train(1,name=\"attlstm_cf_fold_%s_pretrain_ep_%s\"%(fold,ep)) # transfer learning first\n",
    "        shift(m0,mln)\n",
    "        trainer.train(1,name=\"attlstm_cf_fold_%s_ep_%s\"%(fold,ep))\n",
    "    l.p(\"fold training finished\",fold)\n",
    "l.p(\"training finished\")"
   ]
  },
  {
   "cell_type": "code",
   "execution_count": null,
   "metadata": {},
   "outputs": [],
   "source": [
    "torch.save(mln.state_dict(),\"/data/rnn_cf_0.0.5.transfer_learning.npy\")"
   ]
  }
 ],
 "metadata": {
  "kernelspec": {
   "display_name": "Python 3",
   "language": "python",
   "name": "python3"
  },
  "language_info": {
   "codemirror_mode": {
    "name": "ipython",
    "version": 3
   },
   "file_extension": ".py",
   "mimetype": "text/x-python",
   "name": "python",
   "nbconvert_exporter": "python",
   "pygments_lexer": "ipython3",
   "version": "3.6.5"
  }
 },
 "nbformat": 4,
 "nbformat_minor": 2
}
