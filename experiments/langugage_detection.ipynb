{
 "cells": [
  {
   "cell_type": "markdown",
   "metadata": {},
   "source": [
    "### Language Detection"
   ]
  },
  {
   "cell_type": "code",
   "execution_count": 1,
   "metadata": {},
   "outputs": [],
   "source": [
    "from pathlib import Path\n",
    "import os\n",
    "import pandas as pd\n",
    "import numpy as np"
   ]
  },
  {
   "cell_type": "markdown",
   "metadata": {},
   "source": [
    "### Checking Data"
   ]
  },
  {
   "cell_type": "code",
   "execution_count": 2,
   "metadata": {},
   "outputs": [
    {
     "data": {
      "text/plain": [
       "['x_train.txt',\n",
       " 'labels.csv',\n",
       " 'y_train.txt',\n",
       " 'x_test.txt',\n",
       " 'y_test.txt',\n",
       " 'README.txt',\n",
       " 'vocab.json',\n",
       " 'urls.txt']"
      ]
     },
     "execution_count": 2,
     "metadata": {},
     "output_type": "execute_result"
    }
   ],
   "source": [
    "DATA = Path(\"/data/wili\")\n",
    "os.listdir(DATA)"
   ]
  },
  {
   "cell_type": "code",
   "execution_count": 3,
   "metadata": {},
   "outputs": [
    {
     "data": {
      "text/html": [
       "<div>\n",
       "<style scoped>\n",
       "    .dataframe tbody tr th:only-of-type {\n",
       "        vertical-align: middle;\n",
       "    }\n",
       "\n",
       "    .dataframe tbody tr th {\n",
       "        vertical-align: top;\n",
       "    }\n",
       "\n",
       "    .dataframe thead th {\n",
       "        text-align: right;\n",
       "    }\n",
       "</style>\n",
       "<table border=\"1\" class=\"dataframe\">\n",
       "  <thead>\n",
       "    <tr style=\"text-align: right;\">\n",
       "      <th></th>\n",
       "      <th>Label;English;Wiki Code;ISO 369-3;German;Language family;Writing system;Remarks;Synonyms</th>\n",
       "    </tr>\n",
       "  </thead>\n",
       "  <tbody>\n",
       "    <tr>\n",
       "      <th>0</th>\n",
       "      <td>ace;Achinese;ace;ace;Achinesisch;Austronesian;;;</td>\n",
       "    </tr>\n",
       "    <tr>\n",
       "      <th>1</th>\n",
       "      <td>afr;Afrikaans;af;afr;Afrikaans;Indo-European;;;</td>\n",
       "    </tr>\n",
       "    <tr>\n",
       "      <th>2</th>\n",
       "      <td>als;Alemannic German;als;gsw;Alemannisch;Indo-...</td>\n",
       "    </tr>\n",
       "    <tr>\n",
       "      <th>3</th>\n",
       "      <td>amh;Amharic;am;amh;Amharisch;Afro-Asiatic;;;</td>\n",
       "    </tr>\n",
       "    <tr>\n",
       "      <th>4</th>\n",
       "      <td>ang;Old English ;ang;ang;Altenglisch;Indo-Euro...</td>\n",
       "    </tr>\n",
       "    <tr>\n",
       "      <th>5</th>\n",
       "      <td>ara;Arabic;ar;ara;Arabisch;Afro-Asiatic;;;</td>\n",
       "    </tr>\n",
       "    <tr>\n",
       "      <th>6</th>\n",
       "      <td>arg;Aragonese;an;arg;Aragonesisch;Indo-Europea...</td>\n",
       "    </tr>\n",
       "    <tr>\n",
       "      <th>7</th>\n",
       "      <td>arz;Egyptian Arabic;arz;arz;Ägyptisch-Arabisch...</td>\n",
       "    </tr>\n",
       "    <tr>\n",
       "      <th>8</th>\n",
       "      <td>asm;Assamese;as;asm;Assamesisch;Indo-European;;;</td>\n",
       "    </tr>\n",
       "    <tr>\n",
       "      <th>9</th>\n",
       "      <td>ast;Asturian;ast;ast;Asturisch;Indo-European;;;</td>\n",
       "    </tr>\n",
       "    <tr>\n",
       "      <th>10</th>\n",
       "      <td>ava;Avar;av;ava;Awarisch;Northeast Caucasian;;;</td>\n",
       "    </tr>\n",
       "    <tr>\n",
       "      <th>11</th>\n",
       "      <td>aym;Aymara;ay;aym;Aymara;Aymaran;;;</td>\n",
       "    </tr>\n",
       "    <tr>\n",
       "      <th>12</th>\n",
       "      <td>azb;South Azerbaijani;azb;azb;Südaserbaidschan...</td>\n",
       "    </tr>\n",
       "    <tr>\n",
       "      <th>13</th>\n",
       "      <td>aze;Azerbaijani;az;aze;Aserbaidschanisch;Turki...</td>\n",
       "    </tr>\n",
       "    <tr>\n",
       "      <th>14</th>\n",
       "      <td>bak;Bashkir;ba;bak;Baschkirisch;Turkic;;;</td>\n",
       "    </tr>\n",
       "    <tr>\n",
       "      <th>15</th>\n",
       "      <td>bar;Bavarian;bar;bar;Bairisch;Indo-European;;;</td>\n",
       "    </tr>\n",
       "    <tr>\n",
       "      <th>16</th>\n",
       "      <td>bcl;Central Bikol;bcl;bcl;Bikolano;Austronesia...</td>\n",
       "    </tr>\n",
       "    <tr>\n",
       "      <th>17</th>\n",
       "      <td>be-tarask;Belarusian (Taraschkewiza);be-tarask...</td>\n",
       "    </tr>\n",
       "    <tr>\n",
       "      <th>18</th>\n",
       "      <td>bel;Belarusian;be;bel;Weißrussisch;Indo-Europe...</td>\n",
       "    </tr>\n",
       "    <tr>\n",
       "      <th>19</th>\n",
       "      <td>ben;Bengali;bn;ben;Bengalisch;Indo-European;;;</td>\n",
       "    </tr>\n",
       "    <tr>\n",
       "      <th>20</th>\n",
       "      <td>bho;Bhojpuri;bh;bho;Bhojpuri;Indo-European;;;</td>\n",
       "    </tr>\n",
       "    <tr>\n",
       "      <th>21</th>\n",
       "      <td>bjn;Banjar;bjn;bjn;Banjaresisch;Austronesian;;;</td>\n",
       "    </tr>\n",
       "    <tr>\n",
       "      <th>22</th>\n",
       "      <td>bod;Tibetan;bo;bod;Tibetisch;Sino-Tibetan;;;</td>\n",
       "    </tr>\n",
       "    <tr>\n",
       "      <th>23</th>\n",
       "      <td>bos;Bosnian;bs;bos;Bosnisch;Indo-European;;;</td>\n",
       "    </tr>\n",
       "    <tr>\n",
       "      <th>24</th>\n",
       "      <td>bpy;Bishnupriya;bpy;bpy;Bishnupriya Manipuri;I...</td>\n",
       "    </tr>\n",
       "    <tr>\n",
       "      <th>25</th>\n",
       "      <td>bre;Breton;br;bre;Bretonisch;Indo-European;;;</td>\n",
       "    </tr>\n",
       "    <tr>\n",
       "      <th>26</th>\n",
       "      <td>bul;Bulgarian;bg;bul;Bulgarisch;Indo-European;;;</td>\n",
       "    </tr>\n",
       "    <tr>\n",
       "      <th>27</th>\n",
       "      <td>bxr;Buryat;bxr;bxr;Burjatisch;Mongolic;Cyrilli...</td>\n",
       "    </tr>\n",
       "    <tr>\n",
       "      <th>28</th>\n",
       "      <td>cat;Catalan;ca;cat;Katalanisch;Indo-European;L...</td>\n",
       "    </tr>\n",
       "    <tr>\n",
       "      <th>29</th>\n",
       "      <td>cbk;Chavacano;cbk-zam;cbk;Chabacano;Indo-Europ...</td>\n",
       "    </tr>\n",
       "    <tr>\n",
       "      <th>...</th>\n",
       "      <td>...</td>\n",
       "    </tr>\n",
       "    <tr>\n",
       "      <th>205</th>\n",
       "      <td>tgk;Tajik;tg;tgk;Tadschikisch;Indo-European;;;</td>\n",
       "    </tr>\n",
       "    <tr>\n",
       "      <th>206</th>\n",
       "      <td>tgl;Tagalog;tl;tgl;Tagalog;Austronesian;;;</td>\n",
       "    </tr>\n",
       "    <tr>\n",
       "      <th>207</th>\n",
       "      <td>tha;Thai;th;tha;Thailändisch;Tai-Kadai;;;</td>\n",
       "    </tr>\n",
       "    <tr>\n",
       "      <th>208</th>\n",
       "      <td>ton;Tongan;to;ton;Tongaisch;Austronesian;Latin;;</td>\n",
       "    </tr>\n",
       "    <tr>\n",
       "      <th>209</th>\n",
       "      <td>tsn;Tswana;tn;tsn;Setswana;Niger-Congo;Latin;;...</td>\n",
       "    </tr>\n",
       "    <tr>\n",
       "      <th>210</th>\n",
       "      <td>tuk;Turkmen;tk;tuk;Turkmenisch;Turkic;;;</td>\n",
       "    </tr>\n",
       "    <tr>\n",
       "      <th>211</th>\n",
       "      <td>tur;Turkish;tr;tur;Türkisch;Turkic;;;</td>\n",
       "    </tr>\n",
       "    <tr>\n",
       "      <th>212</th>\n",
       "      <td>tyv;Tuvan;tyv;tyv;Tuwinisch;Turkic;Cyrillic;;</td>\n",
       "    </tr>\n",
       "    <tr>\n",
       "      <th>213</th>\n",
       "      <td>udm;Udmurt;udm;udm;Udmurtisch;Uralic;;;</td>\n",
       "    </tr>\n",
       "    <tr>\n",
       "      <th>214</th>\n",
       "      <td>uig;Uighur;ug;uig;Uigurisch;Turkic;;;</td>\n",
       "    </tr>\n",
       "    <tr>\n",
       "      <th>215</th>\n",
       "      <td>ukr;Ukrainian;uk;ukr;Ukrainisch;Indo-European;...</td>\n",
       "    </tr>\n",
       "    <tr>\n",
       "      <th>216</th>\n",
       "      <td>urd;Urdu;ur;urd;Urdu;Indo-European;;;</td>\n",
       "    </tr>\n",
       "    <tr>\n",
       "      <th>217</th>\n",
       "      <td>uzb;Uzbek;uz;uzb;Usbekisch;Turkic;;;</td>\n",
       "    </tr>\n",
       "    <tr>\n",
       "      <th>218</th>\n",
       "      <td>vec;Venetian;vec;vec;Venetisch;Indo-European;;;</td>\n",
       "    </tr>\n",
       "    <tr>\n",
       "      <th>219</th>\n",
       "      <td>vep;Veps;vep;vep;Wepsisch;Uralic;;;</td>\n",
       "    </tr>\n",
       "    <tr>\n",
       "      <th>220</th>\n",
       "      <td>vie;Vietnamese;vi;vie;Vietnamesisch;Austronesi...</td>\n",
       "    </tr>\n",
       "    <tr>\n",
       "      <th>221</th>\n",
       "      <td>vls;Vlaams;vls;vls;Westflämisch;Indo-European;;;</td>\n",
       "    </tr>\n",
       "    <tr>\n",
       "      <th>222</th>\n",
       "      <td>vol;Volapük;vo;vol;Volapük;Constructed;;;</td>\n",
       "    </tr>\n",
       "    <tr>\n",
       "      <th>223</th>\n",
       "      <td>vro;Võro;fiu-vro;vro;Võro;Uralic;;;</td>\n",
       "    </tr>\n",
       "    <tr>\n",
       "      <th>224</th>\n",
       "      <td>war;Waray;war;war;Wáray-Wáray;Austronesian;Lat...</td>\n",
       "    </tr>\n",
       "    <tr>\n",
       "      <th>225</th>\n",
       "      <td>wln;Walloon;wa;wln;Wallonisch;Indo-European;;;</td>\n",
       "    </tr>\n",
       "    <tr>\n",
       "      <th>226</th>\n",
       "      <td>wol;Wolof;wo;wol;Wolof;Niger-Congo;Latin:::Ara...</td>\n",
       "    </tr>\n",
       "    <tr>\n",
       "      <th>227</th>\n",
       "      <td>wuu;Wu Chinese;wuu;wuu;Wu;Sino-Tibetan;;;</td>\n",
       "    </tr>\n",
       "    <tr>\n",
       "      <th>228</th>\n",
       "      <td>xho;Xhosa;xh;xho;isiXhosa;Niger-Congo;Latin;;i...</td>\n",
       "    </tr>\n",
       "    <tr>\n",
       "      <th>229</th>\n",
       "      <td>xmf;Mingrelian;xmf;xmf;Mingrelisch;Kartvelian;;;</td>\n",
       "    </tr>\n",
       "    <tr>\n",
       "      <th>230</th>\n",
       "      <td>yid;Yiddish;yi;yid;Jiddisch;Indo-European;;;</td>\n",
       "    </tr>\n",
       "    <tr>\n",
       "      <th>231</th>\n",
       "      <td>yor;Yoruba;yo;yor;Yoruba;Niger-Congo;;;</td>\n",
       "    </tr>\n",
       "    <tr>\n",
       "      <th>232</th>\n",
       "      <td>zea;Zeeuws;zea;zea;Seeländisch;Indo-European;;;</td>\n",
       "    </tr>\n",
       "    <tr>\n",
       "      <th>233</th>\n",
       "      <td>zh-yue;Cantonese;zh-yue;;Kantonesisch;Sino-Tib...</td>\n",
       "    </tr>\n",
       "    <tr>\n",
       "      <th>234</th>\n",
       "      <td>zho;Standard Chinese;zh;zho;Chinesisch;Sino-Ti...</td>\n",
       "    </tr>\n",
       "  </tbody>\n",
       "</table>\n",
       "<p>235 rows × 1 columns</p>\n",
       "</div>"
      ],
      "text/plain": [
       "    Label;English;Wiki Code;ISO 369-3;German;Language family;Writing system;Remarks;Synonyms\n",
       "0     ace;Achinese;ace;ace;Achinesisch;Austronesian;;;                                      \n",
       "1      afr;Afrikaans;af;afr;Afrikaans;Indo-European;;;                                      \n",
       "2    als;Alemannic German;als;gsw;Alemannisch;Indo-...                                      \n",
       "3         amh;Amharic;am;amh;Amharisch;Afro-Asiatic;;;                                      \n",
       "4    ang;Old English ;ang;ang;Altenglisch;Indo-Euro...                                      \n",
       "5           ara;Arabic;ar;ara;Arabisch;Afro-Asiatic;;;                                      \n",
       "6    arg;Aragonese;an;arg;Aragonesisch;Indo-Europea...                                      \n",
       "7    arz;Egyptian Arabic;arz;arz;Ägyptisch-Arabisch...                                      \n",
       "8     asm;Assamese;as;asm;Assamesisch;Indo-European;;;                                      \n",
       "9      ast;Asturian;ast;ast;Asturisch;Indo-European;;;                                      \n",
       "10     ava;Avar;av;ava;Awarisch;Northeast Caucasian;;;                                      \n",
       "11                 aym;Aymara;ay;aym;Aymara;Aymaran;;;                                      \n",
       "12   azb;South Azerbaijani;azb;azb;Südaserbaidschan...                                      \n",
       "13   aze;Azerbaijani;az;aze;Aserbaidschanisch;Turki...                                      \n",
       "14           bak;Bashkir;ba;bak;Baschkirisch;Turkic;;;                                      \n",
       "15      bar;Bavarian;bar;bar;Bairisch;Indo-European;;;                                      \n",
       "16   bcl;Central Bikol;bcl;bcl;Bikolano;Austronesia...                                      \n",
       "17   be-tarask;Belarusian (Taraschkewiza);be-tarask...                                      \n",
       "18   bel;Belarusian;be;bel;Weißrussisch;Indo-Europe...                                      \n",
       "19      ben;Bengali;bn;ben;Bengalisch;Indo-European;;;                                      \n",
       "20       bho;Bhojpuri;bh;bho;Bhojpuri;Indo-European;;;                                      \n",
       "21     bjn;Banjar;bjn;bjn;Banjaresisch;Austronesian;;;                                      \n",
       "22        bod;Tibetan;bo;bod;Tibetisch;Sino-Tibetan;;;                                      \n",
       "23        bos;Bosnian;bs;bos;Bosnisch;Indo-European;;;                                      \n",
       "24   bpy;Bishnupriya;bpy;bpy;Bishnupriya Manipuri;I...                                      \n",
       "25       bre;Breton;br;bre;Bretonisch;Indo-European;;;                                      \n",
       "26    bul;Bulgarian;bg;bul;Bulgarisch;Indo-European;;;                                      \n",
       "27   bxr;Buryat;bxr;bxr;Burjatisch;Mongolic;Cyrilli...                                      \n",
       "28   cat;Catalan;ca;cat;Katalanisch;Indo-European;L...                                      \n",
       "29   cbk;Chavacano;cbk-zam;cbk;Chabacano;Indo-Europ...                                      \n",
       "..                                                 ...                                      \n",
       "205     tgk;Tajik;tg;tgk;Tadschikisch;Indo-European;;;                                      \n",
       "206         tgl;Tagalog;tl;tgl;Tagalog;Austronesian;;;                                      \n",
       "207          tha;Thai;th;tha;Thailändisch;Tai-Kadai;;;                                      \n",
       "208   ton;Tongan;to;ton;Tongaisch;Austronesian;Latin;;                                      \n",
       "209  tsn;Tswana;tn;tsn;Setswana;Niger-Congo;Latin;;...                                      \n",
       "210           tuk;Turkmen;tk;tuk;Turkmenisch;Turkic;;;                                      \n",
       "211              tur;Turkish;tr;tur;Türkisch;Turkic;;;                                      \n",
       "212      tyv;Tuvan;tyv;tyv;Tuwinisch;Turkic;Cyrillic;;                                      \n",
       "213            udm;Udmurt;udm;udm;Udmurtisch;Uralic;;;                                      \n",
       "214              uig;Uighur;ug;uig;Uigurisch;Turkic;;;                                      \n",
       "215  ukr;Ukrainian;uk;ukr;Ukrainisch;Indo-European;...                                      \n",
       "216              urd;Urdu;ur;urd;Urdu;Indo-European;;;                                      \n",
       "217               uzb;Uzbek;uz;uzb;Usbekisch;Turkic;;;                                      \n",
       "218    vec;Venetian;vec;vec;Venetisch;Indo-European;;;                                      \n",
       "219                vep;Veps;vep;vep;Wepsisch;Uralic;;;                                      \n",
       "220  vie;Vietnamese;vi;vie;Vietnamesisch;Austronesi...                                      \n",
       "221   vls;Vlaams;vls;vls;Westflämisch;Indo-European;;;                                      \n",
       "222          vol;Volapük;vo;vol;Volapük;Constructed;;;                                      \n",
       "223                vro;Võro;fiu-vro;vro;Võro;Uralic;;;                                      \n",
       "224  war;Waray;war;war;Wáray-Wáray;Austronesian;Lat...                                      \n",
       "225     wln;Walloon;wa;wln;Wallonisch;Indo-European;;;                                      \n",
       "226  wol;Wolof;wo;wol;Wolof;Niger-Congo;Latin:::Ara...                                      \n",
       "227          wuu;Wu Chinese;wuu;wuu;Wu;Sino-Tibetan;;;                                      \n",
       "228  xho;Xhosa;xh;xho;isiXhosa;Niger-Congo;Latin;;i...                                      \n",
       "229   xmf;Mingrelian;xmf;xmf;Mingrelisch;Kartvelian;;;                                      \n",
       "230       yid;Yiddish;yi;yid;Jiddisch;Indo-European;;;                                      \n",
       "231            yor;Yoruba;yo;yor;Yoruba;Niger-Congo;;;                                      \n",
       "232    zea;Zeeuws;zea;zea;Seeländisch;Indo-European;;;                                      \n",
       "233  zh-yue;Cantonese;zh-yue;;Kantonesisch;Sino-Tib...                                      \n",
       "234  zho;Standard Chinese;zh;zho;Chinesisch;Sino-Ti...                                      \n",
       "\n",
       "[235 rows x 1 columns]"
      ]
     },
     "execution_count": 3,
     "metadata": {},
     "output_type": "execute_result"
    }
   ],
   "source": [
    "pd.read_csv(DATA/\"labels.csv\")"
   ]
  },
  {
   "cell_type": "code",
   "execution_count": 4,
   "metadata": {},
   "outputs": [],
   "source": [
    "train_txt = open(DATA/\"x_train.txt\").read().split(\"\\n\")[:-2]\n",
    "test_txt = open(DATA/\"x_test.txt\").read().split(\"\\n\")[:-2]"
   ]
  },
  {
   "cell_type": "code",
   "execution_count": 5,
   "metadata": {},
   "outputs": [
    {
     "data": {
      "text/plain": [
       "(['Klement Gottwaldi surnukeha palsameeriti ning paigutati mausoleumi. Surnukeha oli aga liiga hilja ja oskamatult palsameeritud ning hakkas ilmutama lagunemise tundemärke. 1962. aastal viidi ta surnukeha mausoleumist ära ja kremeeriti. Zlíni linn kandis aastatel 1949–1989 nime Gottwaldov. Ukrainas Harkivi oblastis kandis Zmiivi linn aastatel 1976–1990 nime Gotvald.',\n",
       "  'Sebes, Joseph; Pereira Thomas (1961) (på eng). The Jesuits and the Sino-Russian treaty of Nerchinsk (1689): the diary of Thomas Pereira. Bibliotheca Instituti historici S. I., 99-0105377-3 ; 18. Rome. Libris 677492',\n",
       "  'भारतीय स्वातन्त्र्य आन्दोलन राष्ट्रीय एवम क्षेत्रीय आह्वान, उत्तेजनासभ एवम प्रयत्नसँ प्रेरित, भारतीय राजनैतिक सङ्गठनद्वारा सञ्चालित अहिंसावादी आ सैन्यवादी आन्दोलन छल, जेकर एक समान उद्देश्य, अङ्ग्रेजी शासनक भारतीय उपमहाद्वीपसँ जडीसँ उखाड फेकनाई छल। ई आन्दोलनक शुरुआत १८५७ मे भेल सिपाही विद्रोहक मानल जाइत अछि। स्वाधीनताक लेल हजारो लोग अपन प्राणक बलि देलक। भारतीय राष्ट्रीय कांग्रेस १९३० कांग्रेस अधिवेशन मे अङ्ग्रेजसँ पूर्ण स्वराजक मांग केने छल।',\n",
       "  \"Après lo cort periòde d'establiment a Basilèa, tornèt a viatjar, venent un «sabent caminaire», . Sa preséncia es atestada a Colmar ont escriguèt sus la sifilis e Bertheonea sive chirurgia minor, manual per «legit» e interpretar los signes corporals, a Esslingen (aprigondèt sas coneissença en sciéncias ocultas), Nurembèrg (novembre de 1529: faguèt la coneissénça del mistic Sébastien Franck, Beratzhausen (1530: comencèt a escriure de la teologia e lo Paragranum), Sankt Gallen (1531: acabèt Liber paramirum), Appenzell (1533), Sterzing (1534 : sonhava de la pèsta), Merano, Sant Moritz, Pfäffers (Bad Ragaz), Ulm, Augsborg (1536), Munic, Eferding (1537), Kromau (en Moràvia: escriguèt son Astronomia magna), Viena (1537-1538, lo recebèt Ferrand I del Sant Empèri, rei de Boèlia e d'Ongria, rei dels Romans), Villach (mai de 1538). En païses minièrs (val d’Inn), a Appenzell, escriguèt sus las malautiás dels minors (1533); dins las vilas d’aigas (coma Pfäffers) estudièt los benfachs de las aigas termalas (1535), fondant atal la medecina professionala e la balneoterapia.\",\n",
       "  'ถนนเจริญกรุง (อักษรโรมัน: Thanon Charoen Krung) เริ่มตั้งแต่ถนนสนามไชยถึงแม่น้ำเจ้าพระยาที่ถนนตก กรุงเทพมหานคร เป็นถนนรุ่นแรกที่ใช้เทคนิคการสร้างแบบตะวันตก ปัจจุบันผ่านพื้นที่เขตพระนคร เขตป้อมปราบศัตรูพ่าย เขตสัมพันธวงศ์ เขตบางรัก เขตสาทร และเขตบางคอแหลม',\n",
       "  \"Mudde 14, 2012tti, TNQ USA raxibacumab antiraaksii qilleensaan seenuu yaaluu akka limmoodhaan kennamu eeyyame. Raxibacumab antiibodii monoclonial kan summii Baasiles Antiraasisiin uummamu sana halaksiisa. Summiin kun tishuurratti miidhama hin fayyinee fi du'a fida. Antiibodii monoclonial kun pirootiinii antiibodii namaa fakkaatu yoo ta'u qaamota alaa nama keessa seenan kan akka baakteeriyaa fi vaayiresii barbaadanii balleessa.\",\n",
       "  \"Kiribati is 't 174e land op de wereld, nao Saõ Tomé en Príncipe en veur Bahrein. 't Besteit oet inkel tientalle eilendsjes, allemaol koraoleilendsjes (väölal atolle), die naovenant mer kort bove zie oetkoume. De eilendsjes groepere ziech zoe: Banaba (e geïsoleerd eiland in 't weste), de Gilberteilen (16 atolle in 't midde), de Fenikseilen (8 atolle en koraoleilen in 't zuidzuidooste) en de Lijneilen (8 atolle en ei rif in 't ooste; dao-oonder Kiritimati, 't groetste bovezies atol op de wereld). De mierderheid vaan de eilen is bewoend. Banaba haolt de veur koraoleilen oetzunderleke huugde vaan 81 meter, de res vaan 't land löp acuut gevaar veur es gevolg vaan 't breujkaseffek oonder te loupe.\",\n",
       "  'He was a economics graduate from Elphinstone College, Mumbai. He was an industrialist in plastics business. He served as a president of Gujarat Chamber of Commerce and Industry in 1990s.',\n",
       "  'براعظم ایشیاء تے یورپ اتے پھیلے ہوئے دیس ترکی دے 81 صوبے نیں ۔ اس دے بوہتے صوبےآں دے ناں اس صوبے دے صدرمقام شہر اتے نیں ۔ صوبہ ہاتے ترکی دے 81 صوبےآں چوں اک اے تے اسدا انتظامی مرکز انطاکیہ شہر اے ۔',\n",
       "  \"Vanwehe zen Gentsen ofkomst wor 't een ok wè Gandensis enoemd. In meie van 't jaer 980 trouwen Arnold mie Lutgardis van Luxemburg, den dochter van Siegfried van Verdun, graef van Luxemburg. Naeda Arnold was esneuveld in de Slag bie Wienkel, volhen zen zeune Dirk III van 'Olland een op as graef.\",\n",
       "  'Суонси бла Мамблзны темир джолу (ингил. Swansea and Mumbles Railway) — дунияда регуляр пассажир ташыулары болгъан биринчи темир джолду. Дунияда темир джолладан эм эскилени бириди. XX ёмюрню аллында джол шахар тёгереги трамвай халгъа келгенди. 1806 джылдан 1960 джылны 5-чи январына дери ишлегенди.',\n",
       "  '6 fevrye 1996 : Gouvènman ayisyen reprann kontak ak otorite Kiben ( 2 chanselye Ayisyen epi Kiben Emmanuel Fritz Longchamp epi Roberto Robaina ); relasyon diplomatik sa te sispann depi 1962, dat Kiba te dwèt retire l de òganizasyon OEA. Relasyon sa te koumanse depi 3 fevrye 1904.',\n",
       "  \"Espace dédié à la présentation de l'ensemble des projets et des forums de discussion du réseau permettant à tous les membres de participer aux différents ateliers\",\n",
       "  'விசாகப்பட்டினம் தமிழ்ச்சங்கத்தை இந்துப் பத்திரிகை-விசாகப்பட்டின ஆசிரியர் சம்பத்துடன் இணைந்து விரிவுபடுத்தினார். 16 ஆண்டுகள் தொடர்ந்து செயலராக இருந்து தமிழ்மன்றத்தை நடத்திச் சென்றார். 2010 கோவை செம்மொழி மாநாட்டில் \"தமிழ்ச்சங்கங்களும் தமிழும்\" எனும் தலைப்பில் பிற மாநிலங்களில் தமிழ்வளர்ச்சி பற்றி கட்டுரை வாசித்தார்.',\n",
       "  'Bùi Tiến Dũng (sinh năm 1959 tại huyện Ứng Hòa tỉnh Hà Tây nay là Hà Nội) hay Con bạc triệu đô (biệt danh do báo chí và giới truyền thông đặt) là tổng giám đốc PMU-18, nhân vật chính trong vụ tham nhũng PMU-18 gây chấn động dư luận Việt Nam trước Đại hội X Đảng Cộng sản Việt Nam.',\n",
       "  \"ਮੁਸਲਮਾਨ ਜਨਤਾ ਨੇ ਭਾਰਤ ਨੂੰ ਪੂਰੀ ਤਰ੍ਹਾਂ ਆਪਣਾ ਦੇਸ਼ ਮੰਨ ਲਿਆ ਅਤੇ ਇਸ ਧਰਤੀ ਨੂੰ ਆਪਣੀ ਜਨਮਭੂਮੀ ਮੰਨ ਕੇ ਇਸਦੀ ਰੱਖਿਆ ਲਈ ਹਰ ਤਰ੍ਹਾਂ ਦੀ ਕੁਰਬਾਨੀ ਦੇਣ ਲਈ ਤਿਆਰ ਹੋ ਗਏ। ਪੰਜਾਬ ਵਿੱਚ ਮਹਾਰਾਜਾ ਰਣਜੀਤ ਸਿੰਘ ਦੀ ਮੌਤ ਤੋਂ ਬਾਅਦ ਜਦੋਂ ਅੰਗਰੇਜ਼ ਸਾਮਰਾਜ ਨੇ ਹਮਲਾ ਕੀਤਾ ਤਾਂ ਇੱਕ ਮੁਸਲਮਾਨ ਕਵੀ ਕੁਰਲਾ ਉੱਠਿਆ ਸੀ। ਉਹ ਹਿੰਦੂ-ਮੁਸਲਮਾਨਾਂ ਨੂੰ 'ਸਾਂਝੇ ਵਿਰਸੇ'ਦੀ ਪੈਦਾਵਾਰ ਮੰਨਦਾ ਤੇ ਅੰਗਰੇਜਾਂ ਨੂੰ 'ਤੀਸਰੀ ਜਾਤ'ਆਖ ਕੇ ਲਿਖਦਾ ਹੈ:-\",\n",
       "  'Wjelganocno Wyspa (szpań. Isla de Pascua, Territorio Especial de Isla de Pascua, polinez. Rapa Nui, ang. Easter Island)- wyspa na Pokojnym Uoceańe, we uůnygo połedńowyj tajli. Przinoleży do Czile, do regijůńu Valparaíso. Mo 163,6 km² wjyrchu a podug danych ze 2011 roku půmjyszkiwało sam 5035 ludźůw. Jedźino mjejscowość na wyspje to Hanga Roa. Je rozlygowano 3600 km na zachůd uod brzygu Czile a 2078 km uod nojbliższygo inkszygo půmjyszkiwanygo lůndu - wyspy Pitcairn. 70% mjyszkańcůw sam to Polinezyjczyki.',\n",
       "  'پاشان بە جۆرێکی گەلێ سەرسوڕھێنەر\\u200c و ناوازە و بە چاودێرییەکی ئاشکرای پەروەردگار لە دیلی ھەڵھات\\u200c و، لە ڕێی (وارشۆ، ئەڵمانیا، ڤیێنا) گەڕایەوە وڵات. کە لە بەرواری (١٧/٦/١٩١٨) دا گەیشتەوە ئەستەمبوڵ و مەدالیای جەنگی خەڵات کراو، لەلایەن خەلیفە و شێًخولئیسلامی دەوڵەتی عوسمانی و سەرکردەی گشتی سوپا و قوتابییانی زانستە شەرعییەکانەوە پێشوازییەکی ناوازە و ڕەنگینی لێ کرا، ھەروەھا کاربەدەستان داوایان لێ کرد کە ھەندێ فەرمانی بەرز لە دەوڵەتدا بگرێتە ئەستۆی، بەڵام مامۆستا ھیچیانی نەویست جگە لە ئەندامێًتی (دار الحکمة الإسلامیة) کە دەزگایەکی زانستی ئەوتۆ بوو گەورە زانایانی تێدا دەکران بە ئەندام. لە ماوەی ئەم ئەندمێتیەیدا زۆربەی نووسراوە عەرەبیەکانی خۆی چاپ کرد، وەک: تەفسیرە بەنرخەکەی کە ناوی (إشارات الإعجاز في مڤان الإیجاز)ە و، لە گەرمەی جەنگدا داینابوو، کە ئێستا لە بەشی خوێندنی دکتۆرای وانەی تەفسیر لە زانکۆی ئەزھەر بە دەرس دەخوێنرێت.',\n",
       "  'Servidôr di Diu Zuan Pauli II , nassût Karol Józef Wojtyła (Wadowice, Polonie, 18 di Mai 1920 – Citât dal Vatican, 2 di Avrîl 2005), al è stât il 264. Pape de Glesie Catoliche, dal 16 di Otubar 1978 fint a la sô muart. Al fo il prin pontefiç in 455 agns che nol jere talian, e il prin di origjins sclavis. Al à fevelât di une vore di robis intal so pontificât, di comunisim, materialisim, imperialisim, capitalisim e opression, al fo contrari a abort, pene di muart, omosessualitât, contracezion. Al fo viodût di tante int come un cjâf no dome religjôs, ma di livel mondiâl.',\n",
       "  \"UNC有得一只历史悠久个'诚信守则'。渠是由学堂个诚信法庭（Honor Court）来执行个，通过处理各种有关学生个学习帮行为浪个违规，保证了学校帮社区个权益。教授勿能因为学生仔被捉着作弊而通过任何方式处罚学生（譬如讲让迭个学生勿及格），渠必须上报畀学生总检察长。只有当由学生组成个诚信法庭裁决有罪以后，格学生再可以被惩罚。\"],\n",
       " 117499)"
      ]
     },
     "execution_count": 5,
     "metadata": {},
     "output_type": "execute_result"
    }
   ],
   "source": [
    "train_txt[:20],len(train_txt)"
   ]
  },
  {
   "cell_type": "code",
   "execution_count": 6,
   "metadata": {},
   "outputs": [],
   "source": [
    "train_lbl = open(DATA/\"y_train.txt\").read().split(\"\\n\")[:-2]\n",
    "test_lbl = open(DATA/\"y_test.txt\").read().split(\"\\n\")[:-2]"
   ]
  },
  {
   "cell_type": "code",
   "execution_count": 7,
   "metadata": {},
   "outputs": [
    {
     "data": {
      "text/plain": [
       "(['est',\n",
       "  'swe',\n",
       "  'mai',\n",
       "  'oci',\n",
       "  'tha',\n",
       "  'orm',\n",
       "  'lim',\n",
       "  'guj',\n",
       "  'pnb',\n",
       "  'zea',\n",
       "  'krc',\n",
       "  'hat',\n",
       "  'pcd',\n",
       "  'tam',\n",
       "  'vie',\n",
       "  'pan',\n",
       "  'szl',\n",
       "  'ckb',\n",
       "  'fur',\n",
       "  'wuu',\n",
       "  'arz',\n",
       "  'ton',\n",
       "  'eus',\n",
       "  'map-bms',\n",
       "  'glk',\n",
       "  'map-bms',\n",
       "  'nld',\n",
       "  'arz',\n",
       "  'bod',\n",
       "  'jpn'],\n",
       " 117499)"
      ]
     },
     "execution_count": 7,
     "metadata": {},
     "output_type": "execute_result"
    }
   ],
   "source": [
    "train_lbl[:30],len(train_lbl)"
   ]
  },
  {
   "cell_type": "code",
   "execution_count": 8,
   "metadata": {},
   "outputs": [],
   "source": [
    "chars = list(set(open(DATA/\"x_train.txt\").read()))"
   ]
  },
  {
   "cell_type": "code",
   "execution_count": 9,
   "metadata": {},
   "outputs": [
    {
     "name": "stdout",
     "output_type": "stream",
     "text": [
      "['殮', '侃', '폭', '뭇', '沸', '鷟', '戟', 'ì', '擇', '耶', '୯', '፸', '力', 'ⵣ', 'ᑉ', '🇸', '绝', '豬', '谁', '変', '맬', '隰', 'Ꮰ', 'ず', '腐', '恃', 'ম', 'ਈ', 'ू', '은'] 10807\n"
     ]
    }
   ],
   "source": [
    "print(chars[:30], len(chars))"
   ]
  },
  {
   "cell_type": "code",
   "execution_count": 10,
   "metadata": {},
   "outputs": [
    {
     "data": {
      "text/plain": [
       "38968"
      ]
     },
     "execution_count": 10,
     "metadata": {},
     "output_type": "execute_result"
    }
   ],
   "source": [
    "ord('頸',)"
   ]
  },
  {
   "cell_type": "code",
   "execution_count": 11,
   "metadata": {},
   "outputs": [
    {
     "name": "stdout",
     "output_type": "stream",
     "text": [
      "loading configs from /etc/forgebox.cfg\n"
     ]
    }
   ],
   "source": [
    "from forgebox.ftorch.prepro import Seq_Dataset,Arr_Dataset,fuse,test_DS\n",
    "import torch"
   ]
  },
  {
   "cell_type": "code",
   "execution_count": 12,
   "metadata": {},
   "outputs": [],
   "source": [
    "BS = 64\n",
    "CUDA = torch.cuda.is_available()\n",
    "DIM = 50"
   ]
  },
  {
   "cell_type": "code",
   "execution_count": 13,
   "metadata": {},
   "outputs": [
    {
     "name": "stdout",
     "output_type": "stream",
     "text": [
      "nlp sequence type: <class 'list'>\n",
      "nlp sequence total_length type: 117499\n",
      "nlp_test sequence type: <class 'list'>\n",
      "nlp_test sequence total_length type: 117499\n"
     ]
    }
   ],
   "source": [
    "x_seq = Seq_Dataset(\"nlp\",train_txt,seq_len=100,bs=BS,\n",
    "                    vocab_path=\"/data/wili/vocab.json\", \n",
    "                    vocab_size=10807,sep_tok=\"\",build_vocab=False, fixlen=True)\n",
    "x_seq_test = Seq_Dataset(\"nlp_test\",test_txt,seq_len=100,bs=BS,\n",
    "                    vocab_path=\"/data/wili/vocab.json\", \n",
    "                    vocab_size=10807,sep_tok=\"\",build_vocab=False, fixlen=True)"
   ]
  },
  {
   "cell_type": "code",
   "execution_count": 14,
   "metadata": {},
   "outputs": [
    {
     "data": {
      "text/plain": [
       "tensor([[[112,  11,   4,  ...,   2,  37,   3],\n",
       "         [ 66,   4,  23,  ...,  10,  15,   2],\n",
       "         [248,  47,  63,  ...,  84, 124,  97],\n",
       "         ...,\n",
       "         [ 40,  60,   2,  ...,  62,   2, 646],\n",
       "         [400, 205, 753,  ..., 753, 272, 839],\n",
       "         [204,   2,  13,  ...,  69,   6,  13]]])"
      ]
     },
     "execution_count": 14,
     "metadata": {},
     "output_type": "execute_result"
    }
   ],
   "source": [
    "dt = test_DS(x_seq)\n",
    "dt()"
   ]
  },
  {
   "cell_type": "code",
   "execution_count": 15,
   "metadata": {},
   "outputs": [],
   "source": [
    "langs = list(set(train_lbl))"
   ]
  },
  {
   "cell_type": "code",
   "execution_count": 16,
   "metadata": {},
   "outputs": [],
   "source": [
    "idx2lan = dict((k,v) for k,v in enumerate(langs))\n",
    "lan2idx = dict((v,k) for k,v in enumerate(langs))\n",
    "\n",
    "train_y = np.vectorize(lambda x:lan2idx[x])(train_lbl)\n",
    "test_y = np.vectorize(lambda x:lan2idx[x])(test_lbl)\n",
    "train_y"
   ]
  },
  {
   "cell_type": "code",
   "execution_count": 18,
   "metadata": {},
   "outputs": [
    {
     "data": {
      "text/plain": [
       "[tensor([[[112,  11,   4,  ...,   2,  37,   3],\n",
       "          [ 66,   4,  23,  ...,  10,  15,   2],\n",
       "          [248,  47,  63,  ...,  84, 124,  97],\n",
       "          ...,\n",
       "          [ 40,  60,   2,  ...,  62,   2, 646],\n",
       "          [400, 205, 753,  ..., 753, 272, 839],\n",
       "          [204,   2,  13,  ...,  69,   6,  13]]]),\n",
       " [tensor([[ 31,  49, 136,  51, 134, 122, 225, 187,   8, 210,  12, 186, 127,  23,\n",
       "            41, 203, 105, 170,  62, 183, 202, 121,  29, 232, 219, 232, 145, 202,\n",
       "            83,  78,  69,  10, 204, 231,  30,  13,  33, 224, 119, 201, 148,  10,\n",
       "            12,   0, 160, 188,  78, 106,  83, 124, 168, 139,  80,  25, 147, 122,\n",
       "           224, 103,  63, 108,  90, 132, 141, 197]])]]"
      ]
     },
     "execution_count": 18,
     "metadata": {},
     "output_type": "execute_result"
    }
   ],
   "source": [
    "train_y_ds = Arr_Dataset(train_y,bs=BS)\n",
    "test_y_ds = Arr_Dataset(test_y,bs=BS)\n",
    "\n",
    "train_ds = fuse(x_seq,train_y_ds)\n",
    "test_ds_ = fuse(x_seq_test,test_y_ds)\n",
    "\n",
    "test_DS(train_ds)()"
   ]
  },
  {
   "cell_type": "code",
   "execution_count": 19,
   "metadata": {},
   "outputs": [
    {
     "name": "stdout",
     "output_type": "stream",
     "text": [
      "10807\n"
     ]
    }
   ],
   "source": [
    "VOCAB_SIZE=x_seq.vocab_size\n",
    "print(VOCAB_SIZE)"
   ]
  },
  {
   "cell_type": "markdown",
   "metadata": {},
   "source": [
    "### Model"
   ]
  },
  {
   "cell_type": "code",
   "execution_count": 20,
   "metadata": {},
   "outputs": [],
   "source": [
    "from torch import nn\n",
    "from torch.optim import Adam"
   ]
  },
  {
   "cell_type": "code",
   "execution_count": 21,
   "metadata": {},
   "outputs": [
    {
     "data": {
      "text/plain": [
       "235"
      ]
     },
     "execution_count": 21,
     "metadata": {},
     "output_type": "execute_result"
    }
   ],
   "source": [
    "len(langs)"
   ]
  },
  {
   "cell_type": "markdown",
   "metadata": {},
   "source": [
    "Simple Gated Reccurent Unit (GRU)"
   ]
  },
  {
   "cell_type": "code",
   "execution_count": 22,
   "metadata": {},
   "outputs": [],
   "source": [
    "class ld(nn.Module):\n",
    "    def __init__(self, hs):\n",
    "        super().__init__()\n",
    "        self.emb = nn.Embedding(10807,hs)\n",
    "        self.rnn = nn.GRU(input_size=hs, hidden_size=hs,batch_first = True, num_layers = 1)\n",
    "        self.mlp = nn.Sequential(*[\n",
    "            nn.Linear(hs,hs,bias=False),\n",
    "            nn.BatchNorm1d(hs),\n",
    "            nn.ReLU(),\n",
    "            nn.Linear(hs,236),\n",
    "            nn.Softmax(dim = -1),\n",
    "                                  ])\n",
    "    def forward(self,x):\n",
    "        x = self.emb(x)\n",
    "        x,h_n = self.rnn(x)\n",
    "        x = x[:,-1,:]\n",
    "        x = self.mlp(x)\n",
    "        return x"
   ]
  },
  {
   "cell_type": "code",
   "execution_count": 23,
   "metadata": {},
   "outputs": [],
   "source": [
    "from forgebox.ftorch.train import Trainer\n",
    "\n",
    "md = ld(DIM)\n",
    "if CUDA: md.cuda()\n",
    "opt = Adam(md.parameters())\n",
    "lossf = nn.CrossEntropyLoss()"
   ]
  },
  {
   "cell_type": "code",
   "execution_count": 24,
   "metadata": {},
   "outputs": [],
   "source": [
    "t = Trainer(train_ds,val_dataset=test_ds_,batch_size=1,shuffle=True, print_on=5)"
   ]
  },
  {
   "cell_type": "markdown",
   "metadata": {},
   "source": [
    "### A training step\n",
    "\n",
    "Predict y_, metrics: loss, accuracy"
   ]
  },
  {
   "cell_type": "code",
   "execution_count": 25,
   "metadata": {},
   "outputs": [],
   "source": [
    "@t.step_train\n",
    "def action(*args, **kwargs):\n",
    "    opt.zero_grad()\n",
    "    x,y = args[0]\n",
    "    x=x[0]\n",
    "    y = y[0][0]\n",
    "    if CUDA:\n",
    "        x = x.cuda()\n",
    "        y = y.cuda()\n",
    "    y_ = md(x)   \n",
    "    loss = lossf(y_,y)\n",
    "    \n",
    "    loss.backward()\n",
    "    opt.step()\n",
    "    acc = (torch.max(y_, dim=-1)[1]==y).float().mean()\n",
    "    \n",
    "    return {\"loss\":loss.item(),\"acc\":acc.item()}\n",
    "\n",
    "@t.step_val\n",
    "def action(*args, **kwargs):\n",
    "    x,y = args[0]\n",
    "    x=x[0]\n",
    "    y = y[0][0]\n",
    "    if CUDA:\n",
    "        x = x.cuda()\n",
    "        y = y.cuda()\n",
    "    y_ = md(x)   \n",
    "    loss = lossf(y_,y)\n",
    "    \n",
    "    acc = (torch.max(y_, dim=-1)[1]==y).float().mean()\n",
    "    \n",
    "    return {\"loss\":loss.item(),\"acc\":acc.item()}"
   ]
  },
  {
   "cell_type": "code",
   "execution_count": null,
   "metadata": {},
   "outputs": [
    {
     "data": {
      "application/vnd.jupyter.widget-view+json": {
       "model_id": "42cb23949869452088ba39ac0ae986c7",
       "version_major": 2,
       "version_minor": 0
      },
      "text/plain": [
       "HBox(children=(IntProgress(value=0, max=1836), HTML(value='')))"
      ]
     },
     "metadata": {},
     "output_type": "display_data"
    },
    {
     "name": "stdout",
     "output_type": "stream",
     "text": [
      "\n"
     ]
    },
    {
     "data": {
      "application/vnd.jupyter.widget-view+json": {
       "model_id": "f5230d87a66f4b2598918dd784245549",
       "version_major": 2,
       "version_minor": 0
      },
      "text/plain": [
       "HBox(children=(IntProgress(value=0, max=1836), HTML(value='')))"
      ]
     },
     "metadata": {},
     "output_type": "display_data"
    },
    {
     "name": "stdout",
     "output_type": "stream",
     "text": [
      "\n"
     ]
    },
    {
     "data": {
      "application/vnd.jupyter.widget-view+json": {
       "model_id": "15534422ea774dd4950e42dfdc2d511e",
       "version_major": 2,
       "version_minor": 0
      },
      "text/plain": [
       "HBox(children=(IntProgress(value=0, max=1836), HTML(value='')))"
      ]
     },
     "metadata": {},
     "output_type": "display_data"
    },
    {
     "name": "stdout",
     "output_type": "stream",
     "text": [
      "\n"
     ]
    },
    {
     "data": {
      "application/vnd.jupyter.widget-view+json": {
       "model_id": "fae552447c07495b959578f9ec245de5",
       "version_major": 2,
       "version_minor": 0
      },
      "text/plain": [
       "HBox(children=(IntProgress(value=0, max=1836), HTML(value='')))"
      ]
     },
     "metadata": {},
     "output_type": "display_data"
    },
    {
     "name": "stdout",
     "output_type": "stream",
     "text": [
      "\n"
     ]
    },
    {
     "data": {
      "application/vnd.jupyter.widget-view+json": {
       "model_id": "a75d49d1fabe4738bef5ac6dfd5f3252",
       "version_major": 2,
       "version_minor": 0
      },
      "text/plain": [
       "HBox(children=(IntProgress(value=0, max=1836), HTML(value='')))"
      ]
     },
     "metadata": {},
     "output_type": "display_data"
    },
    {
     "name": "stdout",
     "output_type": "stream",
     "text": [
      "\n"
     ]
    },
    {
     "data": {
      "application/vnd.jupyter.widget-view+json": {
       "model_id": "1ea42e18f1f4419a994605bcaeb0edd5",
       "version_major": 2,
       "version_minor": 0
      },
      "text/plain": [
       "HBox(children=(IntProgress(value=0, max=1836), HTML(value='')))"
      ]
     },
     "metadata": {},
     "output_type": "display_data"
    },
    {
     "name": "stdout",
     "output_type": "stream",
     "text": [
      "\n"
     ]
    },
    {
     "data": {
      "application/vnd.jupyter.widget-view+json": {
       "model_id": "4ed430a63e2a429492f5ead34515ce03",
       "version_major": 2,
       "version_minor": 0
      },
      "text/plain": [
       "HBox(children=(IntProgress(value=0, max=1836), HTML(value='')))"
      ]
     },
     "metadata": {},
     "output_type": "display_data"
    },
    {
     "name": "stdout",
     "output_type": "stream",
     "text": [
      "\n"
     ]
    },
    {
     "data": {
      "application/vnd.jupyter.widget-view+json": {
       "model_id": "47557c79a1fe4591bb05c9c42b58150f",
       "version_major": 2,
       "version_minor": 0
      },
      "text/plain": [
       "HBox(children=(IntProgress(value=0, max=1836), HTML(value='')))"
      ]
     },
     "metadata": {},
     "output_type": "display_data"
    },
    {
     "name": "stdout",
     "output_type": "stream",
     "text": [
      "\n"
     ]
    },
    {
     "data": {
      "application/vnd.jupyter.widget-view+json": {
       "model_id": "6dd694b0cf914d19998e8343977ae4c3",
       "version_major": 2,
       "version_minor": 0
      },
      "text/plain": [
       "HBox(children=(IntProgress(value=0, max=1836), HTML(value='')))"
      ]
     },
     "metadata": {},
     "output_type": "display_data"
    },
    {
     "name": "stdout",
     "output_type": "stream",
     "text": [
      "\n"
     ]
    },
    {
     "data": {
      "application/vnd.jupyter.widget-view+json": {
       "model_id": "40589b010ddd497e9a4d9a2c68e480b8",
       "version_major": 2,
       "version_minor": 0
      },
      "text/plain": [
       "HBox(children=(IntProgress(value=0, max=1836), HTML(value='')))"
      ]
     },
     "metadata": {},
     "output_type": "display_data"
    }
   ],
   "source": [
    "t.train(5)"
   ]
  },
  {
   "cell_type": "code",
   "execution_count": null,
   "metadata": {},
   "outputs": [],
   "source": []
  }
 ],
 "metadata": {
  "kernelspec": {
   "display_name": "Python 3",
   "language": "python",
   "name": "python3"
  },
  "language_info": {
   "codemirror_mode": {
    "name": "ipython",
    "version": 3
   },
   "file_extension": ".py",
   "mimetype": "text/x-python",
   "name": "python",
   "nbconvert_exporter": "python",
   "pygments_lexer": "ipython3",
   "version": "3.6.5"
  }
 },
 "nbformat": 4,
 "nbformat_minor": 2
}
