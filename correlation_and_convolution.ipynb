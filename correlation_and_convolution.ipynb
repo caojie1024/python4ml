{
 "cells": [
  {
   "cell_type": "markdown",
   "metadata": {},
   "source": [
    "# Correlation & Convolution"
   ]
  },
  {
   "cell_type": "code",
   "execution_count": 1,
   "metadata": {},
   "outputs": [
    {
     "name": "stderr",
     "output_type": "stream",
     "text": [
      "Using TensorFlow backend.\n"
     ]
    }
   ],
   "source": [
    "from keras.datasets.mnist import load_data\n",
    "import numpy as np"
   ]
  },
  {
   "cell_type": "code",
   "execution_count": 135,
   "metadata": {},
   "outputs": [],
   "source": [
    "(x_train, y_train), (x_test, y_test) = load_data(\"/data/mnist.npz\",)"
   ]
  },
  {
   "cell_type": "code",
   "execution_count": 136,
   "metadata": {},
   "outputs": [],
   "source": [
    "x_train, y_train, x_test, y_test = x_train.reshape(60000,-1)/256, np.eye(10)[y_train], x_test.reshape(10000,-1)/256, np.eye(10)[y_test]"
   ]
  },
  {
   "cell_type": "code",
   "execution_count": 4,
   "metadata": {},
   "outputs": [],
   "source": [
    "from matplotlib import pyplot as plt\n",
    "\n",
    "# you don't have to worry the following piece of code in this cell\n",
    "# We simply build a function, to plot number arrays to image\n",
    "# The visualization isn't the point of this class\n",
    "# just load the function, then you can use plot(input_image_array), and shift enter, it will show the image in notebook\n",
    "def plots(ims, interp=False, titles=None):\n",
    "    ims=np.array(ims)\n",
    "    mn,mx=ims.min(),ims.max()\n",
    "    f = plt.figure(figsize=(12,24))\n",
    "    for i in range(len(ims)):\n",
    "        sp=f.add_subplot(1, len(ims), i+1)\n",
    "        if not titles is None: sp.set_title(titles[i], fontsize=18)\n",
    "        plt.imshow(ims[i], interpolation=None if interp else 'none', vmin=mn,vmax=mx)\n",
    "\n",
    "def plot(im, interp=False):\n",
    "    f = plt.figure(figsize=(3,6), frameon=True)\n",
    "    plt.imshow(im, interpolation=None if interp else 'none')\n",
    "\n",
    "plt.gray()\n",
    "plt.close()"
   ]
  },
  {
   "cell_type": "code",
   "execution_count": 5,
   "metadata": {},
   "outputs": [
    {
     "data": {
      "text/plain": [
       "(None, array([0., 1., 0., 0., 0., 0., 0., 0., 0., 0.]))"
      ]
     },
     "execution_count": 5,
     "metadata": {},
     "output_type": "execute_result"
    },
    {
     "data": {
      "image/png": "[encoded data removed]",
      "text/plain": [
       "<Figure size 216x432 with 1 Axes>"
      ]
     },
     "metadata": {},
     "output_type": "display_data"
    }
   ],
   "source": [
    "plot(x_train[6].reshape(28,28)),y_train[6]"
   ]
  },
  {
   "cell_type": "code",
   "execution_count": 6,
   "metadata": {},
   "outputs": [
    {
     "data": {
      "image/png": "[encoded data removed]",
      "text/plain": [
       "<Figure size 216x432 with 1 Axes>"
      ]
     },
     "metadata": {},
     "output_type": "display_data"
    }
   ],
   "source": [
    "figure = x_train[5].reshape(28,28)\n",
    "plot(figure)"
   ]
  },
  {
   "cell_type": "code",
   "execution_count": 7,
   "metadata": {},
   "outputs": [],
   "source": [
    "filter1 = np.array([[0,0.5,0],\n",
    "                    [0.5,-1,0.5],\n",
    "                    [0,0.5,0]])"
   ]
  },
  {
   "cell_type": "code",
   "execution_count": 8,
   "metadata": {},
   "outputs": [
    {
     "data": {
      "image/png": "[encoded data removed]",
      "text/plain": [
       "<Figure size 216x432 with 1 Axes>"
      ]
     },
     "metadata": {},
     "output_type": "display_data"
    }
   ],
   "source": [
    "plot(filter1)"
   ]
  },
  {
   "cell_type": "code",
   "execution_count": 9,
   "metadata": {},
   "outputs": [
    {
     "data": {
      "image/png": "[encoded data removed]",
      "text/plain": [
       "<Figure size 216x432 with 1 Axes>"
      ]
     },
     "metadata": {},
     "output_type": "display_data"
    }
   ],
   "source": [
    "from scipy.signal import correlate2d\n",
    "plot(correlate2d(figure,filter1))"
   ]
  },
  {
   "cell_type": "code",
   "execution_count": 10,
   "metadata": {},
   "outputs": [],
   "source": [
    "filter2 = np.array([[1,0.5,1],\n",
    "                    [0.5,-1,0.5],\n",
    "                    [1,0.5,1]])"
   ]
  },
  {
   "cell_type": "code",
   "execution_count": 11,
   "metadata": {},
   "outputs": [
    {
     "data": {
      "image/png": "[encoded data removed]",
      "text/plain": [
       "<Figure size 216x432 with 1 Axes>"
      ]
     },
     "metadata": {},
     "output_type": "display_data"
    }
   ],
   "source": [
    "plot(filter2)"
   ]
  },
  {
   "cell_type": "code",
   "execution_count": 12,
   "metadata": {},
   "outputs": [
    {
     "data": {
      "image/png": "[encoded data removed]",
      "text/plain": [
       "<Figure size 216x432 with 1 Axes>"
      ]
     },
     "metadata": {},
     "output_type": "display_data"
    }
   ],
   "source": [
    "plot(correlate2d(figure,filter2))"
   ]
  },
  {
   "cell_type": "code",
   "execution_count": 13,
   "metadata": {},
   "outputs": [],
   "source": [
    "filter_edge = np.array([[1,0.5,0],\n",
    "                    [0.5,0,-0.5],\n",
    "                    [0,-0.5,-1]])"
   ]
  },
  {
   "cell_type": "code",
   "execution_count": 14,
   "metadata": {},
   "outputs": [
    {
     "data": {
      "image/png": "[encoded data removed]",
      "text/plain": [
       "<Figure size 216x432 with 1 Axes>"
      ]
     },
     "metadata": {},
     "output_type": "display_data"
    }
   ],
   "source": [
    "plot(filter_edge)"
   ]
  },
  {
   "cell_type": "code",
   "execution_count": 15,
   "metadata": {},
   "outputs": [
    {
     "data": {
      "text/plain": [
       "(None, None, None, None)"
      ]
     },
     "execution_count": 15,
     "metadata": {},
     "output_type": "execute_result"
    },
    {
     "data": {
      "image/png": "[encoded data removed]",
      "text/plain": [
       "<Figure size 216x432 with 1 Axes>"
      ]
     },
     "metadata": {},
     "output_type": "display_data"
    },
    {
     "data": {
      "image/png": "[encoded data removed]",
      "text/plain": [
       "<Figure size 216x432 with 1 Axes>"
      ]
     },
     "metadata": {},
     "output_type": "display_data"
    },
    {
     "data": {
      "image/png": "[encoded data removed]",
      "text/plain": [
       "<Figure size 216x432 with 1 Axes>"
      ]
     },
     "metadata": {},
     "output_type": "display_data"
    },
    {
     "data": {
      "image/png": "[encoded data removed]",
      "text/plain": [
       "<Figure size 216x432 with 1 Axes>"
      ]
     },
     "metadata": {},
     "output_type": "display_data"
    }
   ],
   "source": [
    "fe_1 = filter_edge\n",
    "fe_2 = fe_1.T[:,::-1]\n",
    "fe_3 = fe_2.T[:,::-1]\n",
    "fe_4 = fe_3.T[:,::-1]\n",
    "plot(fe_1),plot(fe_2),plot(fe_3),plot(fe_4)"
   ]
  },
  {
   "cell_type": "code",
   "execution_count": 16,
   "metadata": {},
   "outputs": [
    {
     "data": {
      "text/plain": [
       "(None, None, None, None)"
      ]
     },
     "execution_count": 16,
     "metadata": {},
     "output_type": "execute_result"
    },
    {
     "data": {
      "image/png": "[encoded data removed]",
      "text/plain": [
       "<Figure size 216x432 with 1 Axes>"
      ]
     },
     "metadata": {},
     "output_type": "display_data"
    },
    {
     "data": {
      "image/png": "[encoded data removed]",
      "text/plain": [
       "<Figure size 216x432 with 1 Axes>"
      ]
     },
     "metadata": {},
     "output_type": "display_data"
    },
    {
     "data": {
      "image/png": "[encoded data removed]",
      "text/plain": [
       "<Figure size 216x432 with 1 Axes>"
      ]
     },
     "metadata": {},
     "output_type": "display_data"
    },
    {
     "data": {
      "image/png": "[encoded data removed]",
      "text/plain": [
       "<Figure size 216x432 with 1 Axes>"
      ]
     },
     "metadata": {},
     "output_type": "display_data"
    }
   ],
   "source": [
    "plot(correlate2d(figure,fe_1)),plot(correlate2d(figure,fe_2)),plot(correlate2d(figure,fe_3)),plot(correlate2d(figure,fe_4))"
   ]
  },
  {
   "cell_type": "code",
   "execution_count": 17,
   "metadata": {},
   "outputs": [
    {
     "data": {
      "image/png": "[encoded data removed]",
      "text/plain": [
       "<Figure size 216x432 with 1 Axes>"
      ]
     },
     "metadata": {},
     "output_type": "display_data"
    }
   ],
   "source": [
    "plot(correlate2d(correlate2d(correlate2d(correlate2d(figure,fe_1),fe_2),fe_3),fe_4))"
   ]
  },
  {
   "cell_type": "markdown",
   "metadata": {},
   "source": [
    "### MNIST Hacking\n"
   ]
  },
  {
   "cell_type": "code",
   "execution_count": 18,
   "metadata": {},
   "outputs": [],
   "source": [
    "from keras.layers import *\n",
    "from keras.models import Model,Sequential"
   ]
  },
  {
   "cell_type": "markdown",
   "metadata": {},
   "source": [
    "### Standard MLP"
   ]
  },
  {
   "cell_type": "code",
   "execution_count": 19,
   "metadata": {},
   "outputs": [],
   "source": [
    "md=Sequential([\n",
    "    Dense(512,activation=\"relu\",input_shape=(784,)),# relu is like max(x,0) in excel\n",
    "    Dense(10,activation=\"softmax\"),#output layer neuron number must be 10 to match y's dimension\n",
    "])\n",
    "md.compile(loss=\"categorical_crossentropy\",\n",
    "           optimizer=\"Adam\", \n",
    "           metrics=[\"accuracy\"]\n",
    "          )"
   ]
  },
  {
   "cell_type": "code",
   "execution_count": 20,
   "metadata": {},
   "outputs": [
    {
     "name": "stdout",
     "output_type": "stream",
     "text": [
      "Train on 60000 samples, validate on 10000 samples\n",
      "Epoch 1/10\n",
      "60000/60000 [==============================] - 7s 122us/step - loss: 0.2330 - acc: 0.9331 - val_loss: 0.1199 - val_acc: 0.9636\n",
      "Epoch 2/10\n",
      "60000/60000 [==============================] - 3s 54us/step - loss: 0.0911 - acc: 0.9728 - val_loss: 0.0867 - val_acc: 0.9739\n",
      "Epoch 3/10\n",
      "60000/60000 [==============================] - 3s 55us/step - loss: 0.0582 - acc: 0.9820 - val_loss: 0.0708 - val_acc: 0.9779\n",
      "Epoch 4/10\n",
      "60000/60000 [==============================] - 3s 54us/step - loss: 0.0408 - acc: 0.9874 - val_loss: 0.0622 - val_acc: 0.9798\n",
      "Epoch 5/10\n",
      "60000/60000 [==============================] - 3s 54us/step - loss: 0.0301 - acc: 0.9911 - val_loss: 0.0653 - val_acc: 0.9787\n",
      "Epoch 6/10\n",
      "60000/60000 [==============================] - 3s 54us/step - loss: 0.0223 - acc: 0.9930 - val_loss: 0.0626 - val_acc: 0.9805\n",
      "Epoch 7/10\n",
      "60000/60000 [==============================] - 3s 56us/step - loss: 0.0172 - acc: 0.9945 - val_loss: 0.0670 - val_acc: 0.9794\n",
      "Epoch 8/10\n",
      "60000/60000 [==============================] - 3s 54us/step - loss: 0.0131 - acc: 0.9960 - val_loss: 0.0620 - val_acc: 0.9826\n",
      "Epoch 9/10\n",
      "60000/60000 [==============================] - 3s 54us/step - loss: 0.0121 - acc: 0.9964 - val_loss: 0.0765 - val_acc: 0.9796\n",
      "Epoch 10/10\n",
      "60000/60000 [==============================] - 3s 54us/step - loss: 0.0110 - acc: 0.9962 - val_loss: 0.0719 - val_acc: 0.9808\n"
     ]
    },
    {
     "data": {
      "text/plain": [
       "<keras.callbacks.History at 0x7f1659963a58>"
      ]
     },
     "execution_count": 20,
     "metadata": {},
     "output_type": "execute_result"
    }
   ],
   "source": [
    "md.fit(x_train,y_train,\n",
    "       validation_data=(x_test,y_test), # validation data, not involved in training, but exam the model for each epoch\n",
    "       epochs=10,# how many time we are going to run through the entire training data\n",
    "       batch_size=64,#how many image's we process per batch\n",
    "      )"
   ]
  },
  {
   "cell_type": "markdown",
   "metadata": {},
   "source": [
    "### Convolution"
   ]
  },
  {
   "cell_type": "code",
   "execution_count": 21,
   "metadata": {},
   "outputs": [],
   "source": [
    "input_ = Input((784,))\n",
    "x = Reshape((28,28,1))(input_)\n",
    "x = Convolution2D(filters=64,kernel_size=3,padding=\"same\",activation=\"relu\")(x)\n",
    "x = Convolution2D(filters=64,kernel_size=3,padding=\"same\")(x)\n",
    "x = MaxPool2D()(x)\n",
    "x = Convolution2D(filters=64,kernel_size=3,padding=\"same\",activation=\"relu\")(x)\n",
    "x = Convolution2D(filters=64,kernel_size=3,padding=\"same\")(x)\n",
    "x = MaxPool2D()(x)\n",
    "x = Convolution2D(filters=128,kernel_size=3,padding=\"same\",activation=\"relu\")(x)\n",
    "x = Convolution2D(filters=128,kernel_size=3,padding=\"same\",activation=\"relu\")(x)\n",
    "x = Convolution2D(filters=128,kernel_size=3,padding=\"same\")(x)\n",
    "x = MaxPool2D()(x)\n",
    "x = Flatten()(x)\n",
    "x = Dense(256,activation=\"relu\")(x)\n",
    "x = Dense(10,activation=\"softmax\")(x)\n",
    "\n",
    "md = Model(input_,x)\n",
    "md.compile(loss=\"categorical_crossentropy\",\n",
    "           optimizer=\"Adam\", \n",
    "           metrics=[\"accuracy\"]\n",
    "          )"
   ]
  },
  {
   "cell_type": "code",
   "execution_count": 22,
   "metadata": {},
   "outputs": [
    {
     "name": "stdout",
     "output_type": "stream",
     "text": [
      "Train on 60000 samples, validate on 10000 samples\n",
      "Epoch 1/5\n",
      "60000/60000 [==============================] - 16s 269us/step - loss: 0.1302 - acc: 0.9589 - val_loss: 0.0333 - val_acc: 0.9886\n",
      "Epoch 2/5\n",
      "60000/60000 [==============================] - 13s 225us/step - loss: 0.0430 - acc: 0.9868 - val_loss: 0.0303 - val_acc: 0.9902\n",
      "Epoch 3/5\n",
      "60000/60000 [==============================] - 14s 225us/step - loss: 0.0345 - acc: 0.9890 - val_loss: 0.0342 - val_acc: 0.9892\n",
      "Epoch 4/5\n",
      "60000/60000 [==============================] - 13s 224us/step - loss: 0.0265 - acc: 0.9920 - val_loss: 0.0398 - val_acc: 0.9897\n",
      "Epoch 5/5\n",
      "60000/60000 [==============================] - 13s 224us/step - loss: 0.0259 - acc: 0.9921 - val_loss: 0.0310 - val_acc: 0.9897\n"
     ]
    },
    {
     "data": {
      "text/plain": [
       "<keras.callbacks.History at 0x7f165848e160>"
      ]
     },
     "execution_count": 22,
     "metadata": {},
     "output_type": "execute_result"
    }
   ],
   "source": [
    "md.fit(x_train,y_train,\n",
    "       validation_data=(x_test,y_test), # validation data, not involved in training, but exam the model for each epoch\n",
    "       epochs=5,# how many time we are going to run through the entire training data\n",
    "       batch_size=64,#how many image's we process per batch\n",
    "      )"
   ]
  },
  {
   "cell_type": "markdown",
   "metadata": {},
   "source": [
    "### BatchNorm"
   ]
  },
  {
   "cell_type": "code",
   "execution_count": 23,
   "metadata": {},
   "outputs": [],
   "source": [
    "def conv_bn(x,f_nb, ks=3,act=True):\n",
    "    x = Convolution2D(filters=f_nb,kernel_size=ks,padding=\"same\")(x)\n",
    "    x = BatchNormalization()(x)\n",
    "    if act:x = ReLU()(x)\n",
    "    return x"
   ]
  },
  {
   "cell_type": "code",
   "execution_count": 35,
   "metadata": {},
   "outputs": [],
   "source": [
    "input_ = Input((784,))\n",
    "x = Reshape((28,28,1))(input_)\n",
    "x = conv_bn(x,32)\n",
    "x = conv_bn(x,32,act=False)\n",
    "x = MaxPool2D()(x)\n",
    "x = conv_bn(x,64)\n",
    "x = conv_bn(x,64,act=False)\n",
    "x = MaxPool2D()(x)\n",
    "x = conv_bn(x,128)\n",
    "x = conv_bn(x,128)\n",
    "x = conv_bn(x,128,act=False)\n",
    "x = MaxPool2D()(x)\n",
    "x = Flatten()(x)\n",
    "x = Dense(256,activation=\"relu\")(x)\n",
    "x = Dropout(.3)(x)\n",
    "x = Dense(10,activation=\"softmax\")(x)\n",
    "\n",
    "md = Model(input_,x)\n",
    "md.compile(loss=\"categorical_crossentropy\",\n",
    "           optimizer=\"Adam\", \n",
    "           metrics=[\"accuracy\"]\n",
    "          )"
   ]
  },
  {
   "cell_type": "code",
   "execution_count": 37,
   "metadata": {},
   "outputs": [
    {
     "name": "stdout",
     "output_type": "stream",
     "text": [
      "Train on 60000 samples, validate on 10000 samples\n",
      "Epoch 1/1\n",
      "60000/60000 [==============================] - 16s 272us/step - loss: 0.0251 - acc: 0.9922 - val_loss: 0.0369 - val_acc: 0.9904\n"
     ]
    },
    {
     "data": {
      "text/plain": [
       "<keras.callbacks.History at 0x7f15bed40390>"
      ]
     },
     "execution_count": 37,
     "metadata": {},
     "output_type": "execute_result"
    }
   ],
   "source": [
    "md.fit(x_train,y_train,\n",
    "       validation_data=(x_test,y_test), # validation data, not involved in training, but exam the model for each epoch\n",
    "       epochs=1,# how many time we are going to run through the entire training data\n",
    "       batch_size=64,#how many image's we process per batch\n",
    "      )"
   ]
  },
  {
   "cell_type": "code",
   "execution_count": 38,
   "metadata": {},
   "outputs": [
    {
     "name": "stdout",
     "output_type": "stream",
     "text": [
      "Train on 60000 samples, validate on 10000 samples\n",
      "Epoch 1/4\n",
      "60000/60000 [==============================] - 16s 273us/step - loss: 0.0199 - acc: 0.9940 - val_loss: 0.0242 - val_acc: 0.9919\n",
      "Epoch 2/4\n",
      "60000/60000 [==============================] - 16s 273us/step - loss: 0.0161 - acc: 0.9950 - val_loss: 0.0304 - val_acc: 0.9925\n",
      "Epoch 3/4\n",
      "60000/60000 [==============================] - 16s 272us/step - loss: 0.0153 - acc: 0.9953 - val_loss: 0.0316 - val_acc: 0.9912\n",
      "Epoch 4/4\n",
      "60000/60000 [==============================] - 16s 273us/step - loss: 0.0126 - acc: 0.9961 - val_loss: 0.0290 - val_acc: 0.9932\n"
     ]
    },
    {
     "data": {
      "text/plain": [
       "<keras.callbacks.History at 0x7f15bed409e8>"
      ]
     },
     "execution_count": 38,
     "metadata": {},
     "output_type": "execute_result"
    }
   ],
   "source": [
    "md.fit(x_train,y_train,\n",
    "       validation_data=(x_test,y_test), # validation data, not involved in training, but exam the model for each epoch\n",
    "       epochs=4,# how many time we are going to run through the entire training data\n",
    "       batch_size=64,#how many image's we process per batch\n",
    "      )"
   ]
  },
  {
   "cell_type": "markdown",
   "metadata": {},
   "source": [
    "### Data Augmentation"
   ]
  },
  {
   "cell_type": "code",
   "execution_count": 39,
   "metadata": {},
   "outputs": [],
   "source": [
    "from keras.preprocessing.image import apply_affine_transform"
   ]
  },
  {
   "cell_type": "code",
   "execution_count": 97,
   "metadata": {},
   "outputs": [
    {
     "data": {
      "image/png": "[encoded data removed]",
      "text/plain": [
       "<Figure size 216x432 with 1 Axes>"
      ]
     },
     "metadata": {},
     "output_type": "display_data"
    }
   ],
   "source": [
    "plot(apply_affine_transform(x_train[0].reshape(28,28,1),theta=15,tx = 3).reshape(28,28))"
   ]
  },
  {
   "cell_type": "code",
   "execution_count": null,
   "metadata": {},
   "outputs": [],
   "source": []
  },
  {
   "cell_type": "code",
   "execution_count": 138,
   "metadata": {},
   "outputs": [],
   "source": [
    "def aug_x(x):\n",
    "    random_aug = (np.random.rand(4)-0.5)*np.array([20,5,5,10])\n",
    "\n",
    "    aug_conf = {\"theta\":random_aug[0],\n",
    "     \"tx\":random_aug[1],\n",
    "     \"ty\":random_aug[2],\n",
    "     \"shear\":random_aug[3],}\n",
    "\n",
    "    x = apply_affine_transform(x.reshape(28,28,1),**aug_conf).reshape(28,28)\n",
    "    return x"
   ]
  },
  {
   "cell_type": "code",
   "execution_count": 139,
   "metadata": {},
   "outputs": [],
   "source": [
    "def aug_xs(x_train):\n",
    "    x_train = x_train.reshape(-1,28,28)\n",
    "    train_len = x_train.shape[0]\n",
    "    for i in range(train_len):\n",
    "        x_train[i] = aug_x(x_train[i])\n",
    "\n",
    "    return x_train.reshape(-1,784)"
   ]
  },
  {
   "cell_type": "code",
   "execution_count": 142,
   "metadata": {},
   "outputs": [],
   "source": [
    "input_ = Input((784,))\n",
    "x = Reshape((28,28,1))(input_)\n",
    "x = conv_bn(x,32)\n",
    "x = conv_bn(x,32,act=False)\n",
    "x = MaxPool2D()(x)\n",
    "x = conv_bn(x,64)\n",
    "x = conv_bn(x,64,act=False)\n",
    "x = MaxPool2D()(x)\n",
    "x = conv_bn(x,128)\n",
    "x = conv_bn(x,128)\n",
    "x = conv_bn(x,128,act=False)\n",
    "x = MaxPool2D()(x)\n",
    "x = Flatten()(x)\n",
    "x = Dense(256,activation=\"relu\")(x)\n",
    "x = Dropout(.3)(x)\n",
    "x = Dense(10,activation=\"softmax\")(x)\n",
    "\n",
    "md = Model(input_,x)\n",
    "md.compile(loss=\"categorical_crossentropy\",\n",
    "           optimizer=\"Adam\", \n",
    "           metrics=[\"accuracy\"]\n",
    "          )"
   ]
  },
  {
   "cell_type": "code",
   "execution_count": 143,
   "metadata": {},
   "outputs": [
    {
     "name": "stdout",
     "output_type": "stream",
     "text": [
      "Train on 120000 samples, validate on 10000 samples\n",
      "Epoch 1/1\n",
      "120000/120000 [==============================] - 37s 309us/step - loss: 0.1116 - acc: 0.9660 - val_loss: 0.0391 - val_acc: 0.9887\n",
      "Train on 120000 samples, validate on 10000 samples\n",
      "Epoch 1/1\n",
      "120000/120000 [==============================] - 33s 273us/step - loss: 0.0491 - acc: 0.9857 - val_loss: 0.0336 - val_acc: 0.9896\n",
      "Train on 120000 samples, validate on 10000 samples\n",
      "Epoch 1/1\n",
      "120000/120000 [==============================] - 33s 273us/step - loss: 0.0388 - acc: 0.9888 - val_loss: 0.0422 - val_acc: 0.9875\n",
      "Train on 120000 samples, validate on 10000 samples\n",
      "Epoch 1/1\n",
      "120000/120000 [==============================] - 33s 273us/step - loss: 0.0336 - acc: 0.9902 - val_loss: 0.0250 - val_acc: 0.9937\n",
      "Train on 120000 samples, validate on 10000 samples\n",
      "Epoch 1/1\n",
      "120000/120000 [==============================] - 33s 273us/step - loss: 0.0289 - acc: 0.9919 - val_loss: 0.0277 - val_acc: 0.9917\n",
      "Train on 120000 samples, validate on 10000 samples\n",
      "Epoch 1/1\n",
      "120000/120000 [==============================] - 33s 273us/step - loss: 0.0258 - acc: 0.9923 - val_loss: 0.0223 - val_acc: 0.9937\n",
      "Train on 120000 samples, validate on 10000 samples\n",
      "Epoch 1/1\n",
      "120000/120000 [==============================] - 33s 273us/step - loss: 0.0250 - acc: 0.9929 - val_loss: 0.0208 - val_acc: 0.9944\n",
      "Train on 120000 samples, validate on 10000 samples\n",
      "Epoch 1/1\n",
      "120000/120000 [==============================] - 33s 273us/step - loss: 0.0204 - acc: 0.9938 - val_loss: 0.0320 - val_acc: 0.9904\n"
     ]
    }
   ],
   "source": [
    "for i in range(8):\n",
    "    x_aug = aug_xs(x_train.copy())\n",
    "    md.fit(np.concatenate([x_aug,x_train],axis=0),np.concatenate([y_train,y_train],axis=0),\n",
    "       validation_data=(x_test,y_test), # validation data, not involved in training, but exam the model for each epoch\n",
    "       epochs=1,# how many time we are going to run through the entire training data\n",
    "       batch_size=64,#how many image's we process per batch\n",
    "      )"
   ]
  },
  {
   "cell_type": "code",
   "execution_count": 144,
   "metadata": {},
   "outputs": [
    {
     "name": "stdout",
     "output_type": "stream",
     "text": [
      "Train on 120000 samples, validate on 10000 samples\n",
      "Epoch 1/1\n",
      "120000/120000 [==============================] - 33s 273us/step - loss: 0.0197 - acc: 0.9943 - val_loss: 0.0276 - val_acc: 0.9931\n"
     ]
    }
   ],
   "source": [
    "for i in range(1):\n",
    "    x_aug = aug_xs(x_train.copy())\n",
    "    md.fit(np.concatenate([x_aug,x_train],axis=0),np.concatenate([y_train,y_train],axis=0),\n",
    "       validation_data=(x_test,y_test), # validation data, not involved in training, but exam the model for each epoch\n",
    "       epochs=1,# how many time we are going to run through the entire training data\n",
    "       batch_size=64,#how many image's we process per batch\n",
    "      )"
   ]
  },
  {
   "cell_type": "code",
   "execution_count": null,
   "metadata": {},
   "outputs": [],
   "source": []
  }
 ],
 "metadata": {
  "kernelspec": {
   "display_name": "Python 3",
   "language": "python",
   "name": "python3"
  },
  "language_info": {
   "codemirror_mode": {
    "name": "ipython",
    "version": 3
   },
   "file_extension": ".py",
   "mimetype": "text/x-python",
   "name": "python",
   "nbconvert_exporter": "python",
   "pygments_lexer": "ipython3",
   "version": "3.6.5"
  }
 },
 "nbformat": 4,
 "nbformat_minor": 2
}
